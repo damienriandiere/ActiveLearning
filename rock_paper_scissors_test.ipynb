{
 "cells": [
  {
   "cell_type": "code",
   "execution_count": 1,
   "metadata": {},
   "outputs": [],
   "source": [
    "import tensorflow as tf\n",
    "import tensorflow_datasets as tfds\n",
    "from datasetB_main import MyDataset"
   ]
  },
  {
   "cell_type": "code",
   "execution_count": 2,
   "metadata": {},
   "outputs": [
    {
     "name": "stdout",
     "output_type": "stream",
     "text": [
      "tfds.core.DatasetInfo(\n",
      "    name='my_dataset',\n",
      "    full_name='my_dataset/1.0.0',\n",
      "    description=\"\"\"\n",
      "    Dataset B pour le pierre papier ciseaux\n",
      "    \"\"\",\n",
      "    homepage='https://www.tensorflow.org/datasets/catalog/my_dataset',\n",
      "    data_dir='D:\\\\Users\\\\e2205297\\\\tensorflow_datasets\\\\my_dataset\\\\1.0.0',\n",
      "    file_format=tfrecord,\n",
      "    download_size=Unknown size,\n",
      "    dataset_size=225.96 MiB,\n",
      "    features=FeaturesDict({\n",
      "        'image': Image(shape=(300, 300, 3), dtype=uint8),\n",
      "        'label': ClassLabel(shape=(), dtype=int64, num_classes=3),\n",
      "    }),\n",
      "    supervised_keys=('image', 'label'),\n",
      "    disable_shuffling=False,\n",
      "    splits={\n",
      "        'test': <SplitInfo num_examples=719, num_shards=1>,\n",
      "        'train': <SplitInfo num_examples=3359, num_shards=2>,\n",
      "    },\n",
      "    citation=\"\"\"\"\"\",\n",
      ")\n"
     ]
    }
   ],
   "source": [
    "builder = MyDataset()\n",
    "builder.download_and_prepare()\n",
    "dataset_train_raw = builder.as_dataset(split='train')\n",
    "dataset_test_raw = builder.as_dataset(split='test')\n",
    "dataset_info = builder.info\n",
    "\n",
    "print(dataset_info)"
   ]
  },
  {
   "cell_type": "code",
   "execution_count": 3,
   "metadata": {},
   "outputs": [
    {
     "name": "stdout",
     "output_type": "stream",
     "text": [
      "Raw train dataset: <_PrefetchDataset element_spec={'image': TensorSpec(shape=(300, 300, 3), dtype=tf.uint8, name=None), 'label': TensorSpec(shape=(), dtype=tf.int64, name=None)}>\n",
      "Raw train dataset size: 3359 \n",
      "\n",
      "Raw test dataset: <_PrefetchDataset element_spec={'image': TensorSpec(shape=(300, 300, 3), dtype=tf.uint8, name=None), 'label': TensorSpec(shape=(), dtype=tf.int64, name=None)}>\n",
      "Raw test dataset size: 719 \n",
      "\n"
     ]
    }
   ],
   "source": [
    "print('Raw train dataset:', dataset_train_raw)\n",
    "print('Raw train dataset size:', len(dataset_train_raw), '\\n')\n",
    "\n",
    "print('Raw test dataset:', dataset_test_raw)\n",
    "print('Raw test dataset size:', len(dataset_test_raw), '\\n')"
   ]
  },
  {
   "cell_type": "code",
   "execution_count": 4,
   "metadata": {},
   "outputs": [
    {
     "name": "stdout",
     "output_type": "stream",
     "text": [
      "Number of TRAIN examples: 3359\n",
      "Number of TEST examples: 719\n",
      "Number of label classes: 3\n"
     ]
    }
   ],
   "source": [
    "NUM_TRAIN_EXAMPLES = dataset_info.splits['train'].num_examples\n",
    "NUM_TEST_EXAMPLES = dataset_info.splits['test'].num_examples\n",
    "NUM_CLASSES = dataset_info.features['label'].num_classes\n",
    "\n",
    "print('Number of TRAIN examples:', NUM_TRAIN_EXAMPLES)\n",
    "print('Number of TEST examples:', NUM_TEST_EXAMPLES)\n",
    "print('Number of label classes:', NUM_CLASSES)"
   ]
  },
  {
   "cell_type": "code",
   "execution_count": 5,
   "metadata": {},
   "outputs": [
    {
     "name": "stdout",
     "output_type": "stream",
     "text": [
      "Input image size (original): 300\n",
      "Input image shape (original): (300, 300, 3)\n",
      "\n",
      "\n",
      "Input image size (reduced): 150\n",
      "Input image shape (reduced): (150, 150, 3)\n",
      "\n",
      "\n",
      "Input image size: 150\n",
      "Input image shape: (150, 150, 3)\n"
     ]
    }
   ],
   "source": [
    "INPUT_IMG_SIZE_ORIGINAL = dataset_info.features['image'].shape[0]\n",
    "INPUT_IMG_SHAPE_ORIGINAL = dataset_info.features['image'].shape\n",
    "\n",
    "INPUT_IMG_SIZE_REDUCED = INPUT_IMG_SIZE_ORIGINAL // 2\n",
    "INPUT_IMG_SHAPE_REDUCED = (\n",
    "    INPUT_IMG_SIZE_REDUCED,\n",
    "    INPUT_IMG_SIZE_REDUCED,\n",
    "    INPUT_IMG_SHAPE_ORIGINAL[2]\n",
    ")\n",
    "\n",
    "# Here we may switch between bigger or smaller image sized that we will train our model on.\n",
    "INPUT_IMG_SIZE = INPUT_IMG_SIZE_REDUCED\n",
    "INPUT_IMG_SHAPE = INPUT_IMG_SHAPE_REDUCED\n",
    "\n",
    "print('Input image size (original):', INPUT_IMG_SIZE_ORIGINAL)\n",
    "print('Input image shape (original):', INPUT_IMG_SHAPE_ORIGINAL)\n",
    "print('\\n')\n",
    "print('Input image size (reduced):', INPUT_IMG_SIZE_REDUCED)\n",
    "print('Input image shape (reduced):', INPUT_IMG_SHAPE_REDUCED)\n",
    "print('\\n')\n",
    "print('Input image size:', INPUT_IMG_SIZE)\n",
    "print('Input image shape:', INPUT_IMG_SHAPE)"
   ]
  },
  {
   "cell_type": "code",
   "execution_count": 6,
   "metadata": {},
   "outputs": [],
   "source": [
    "def format_example(features):\n",
    "    image = features['image']\n",
    "    label = features['label']\n",
    "    # Make image color values to be float.\n",
    "    image = tf.cast(image, tf.float32)\n",
    "    # Make image color values to be in [0..1] range.\n",
    "    image = image / 255.\n",
    "    # Make sure that image has a right size\n",
    "    image = tf.image.resize(image, [INPUT_IMG_SIZE, INPUT_IMG_SIZE])\n",
    "    return image, label"
   ]
  },
  {
   "cell_type": "code",
   "execution_count": 7,
   "metadata": {},
   "outputs": [
    {
     "name": "stdout",
     "output_type": "stream",
     "text": [
      "<_PrefetchDataset element_spec={'image': TensorSpec(shape=(300, 300, 3), dtype=tf.uint8, name=None), 'label': TensorSpec(shape=(), dtype=tf.int64, name=None)}>\n"
     ]
    }
   ],
   "source": [
    "print(dataset_train_raw)\n",
    "dataset_train = dataset_train_raw.map(format_example)\n",
    "dataset_test = dataset_test_raw.map(format_example)"
   ]
  },
  {
   "cell_type": "code",
   "execution_count": 19,
   "metadata": {},
   "outputs": [
    {
     "name": "stdout",
     "output_type": "stream",
     "text": [
      "Label: [0 1 1 1 0 1 1 1 1 1 1 1 1 1 2 1 1 2 2 0 0 1 2 1 2 2 0 0 1 2 0 2] \n",
      "\n",
      "Image shape: (32, 150, 150, 3) \n",
      "\n",
      "[[[[0.9843137  0.9764706  0.98039216]\n",
      "   [0.9843137  0.9764706  0.98039216]\n",
      "   [0.9843137  0.9764706  0.98039216]\n",
      "   ...\n",
      "   [0.34509805 0.33333334 0.26666668]\n",
      "   [0.3372157  0.325451   0.26662746]\n",
      "   [0.3343792  0.32092813 0.26716375]]\n",
      "\n",
      "  [[0.9843137  0.9764706  0.98039216]\n",
      "   [0.9843137  0.9764706  0.98039216]\n",
      "   [0.9843137  0.9764706  0.98039216]\n",
      "   ...\n",
      "   [0.3441176  0.3323529  0.26568624]\n",
      "   [0.3379214  0.3261567  0.26733318]\n",
      "   [0.33159485 0.31590858 0.26884976]]\n",
      "\n",
      "  [[0.9835948  0.97575164 0.9796732 ]\n",
      "   [0.9843137  0.9764706  0.98039216]\n",
      "   [0.9843137  0.9764706  0.98039216]\n",
      "   ...\n",
      "   [0.33986914 0.33006522 0.2712417 ]\n",
      "   [0.33686262 0.32117635 0.27411753]\n",
      "   [0.3301308  0.3144445  0.2673857 ]]\n",
      "\n",
      "  ...\n",
      "\n",
      "  [[0.5502615  0.5590196  0.646536  ]\n",
      "   [0.549804   0.557451   0.6329412 ]\n",
      "   [0.53790855 0.54607844 0.6245098 ]\n",
      "   ...\n",
      "   [0.02156863 0.02156863 0.02156863]\n",
      "   [0.02176478 0.02176478 0.02176478]\n",
      "   [0.02352941 0.02352941 0.02352941]]\n",
      "\n",
      "  [[0.88418317 0.91163415 0.9375164 ]\n",
      "   [0.864275   0.8802358  0.91682386]\n",
      "   [0.8533998  0.8690861  0.9088245 ]\n",
      "   ...\n",
      "   [0.01960784 0.01960784 0.01960784]\n",
      "   [0.02078427 0.02078427 0.02078427]\n",
      "   [0.02078427 0.02078427 0.02078427]]\n",
      "\n",
      "  [[0.93460125 0.9524052  0.9822091 ]\n",
      "   [0.91301954 0.91533333 0.94592154]\n",
      "   [0.90993464 0.9146406  0.9350328 ]\n",
      "   ...\n",
      "   [0.01960784 0.01960784 0.01960784]\n",
      "   [0.02352941 0.02352941 0.02352941]\n",
      "   [0.01960784 0.01960784 0.01960784]]]\n",
      "\n",
      "\n",
      " [[[0.58258826 0.512      0.43356863]\n",
      "   [0.63309807 0.56250983 0.48407844]\n",
      "   [0.5747713  0.49241832 0.41084972]\n",
      "   ...\n",
      "   [0.7019608  0.70980394 0.65882355]\n",
      "   [0.7019608  0.70980394 0.65882355]\n",
      "   [0.7058824  0.7137255  0.67058825]]\n",
      "\n",
      "  [[0.6228497  0.5522615  0.4738301 ]\n",
      "   [0.6125882  0.542      0.4635686 ]\n",
      "   [0.57183015 0.50124186 0.4228105 ]\n",
      "   ...\n",
      "   [0.7019608  0.70980394 0.6666667 ]\n",
      "   [0.7019608  0.70980394 0.6666667 ]\n",
      "   [0.7019608  0.70980394 0.6666667 ]]\n",
      "\n",
      "  [[0.64790857 0.57732034 0.4988889 ]\n",
      "   [0.56470585 0.49411762 0.41568625]\n",
      "   [0.6261438  0.5555556  0.4771242 ]\n",
      "   ...\n",
      "   [0.70359486 0.711438   0.66830075]\n",
      "   [0.7019608  0.70980394 0.6666667 ]\n",
      "   [0.70392156 0.7117647  0.66326785]]\n",
      "\n",
      "  ...\n",
      "\n",
      "  [[0.00392157 0.00392157 0.00392157]\n",
      "   [0.00392157 0.00392157 0.00392157]\n",
      "   [0.00392157 0.00392157 0.00392157]\n",
      "   ...\n",
      "   [0.5039216  0.46862745 0.43333334]\n",
      "   [0.50784314 0.47254902 0.4372549 ]\n",
      "   [0.5137255  0.47843137 0.44313726]]\n",
      "\n",
      "  [[0.00392157 0.00392157 0.00392157]\n",
      "   [0.00392157 0.00392157 0.00392157]\n",
      "   [0.00392157 0.00392157 0.00392157]\n",
      "   ...\n",
      "   [0.5019608  0.46666667 0.43137255]\n",
      "   [0.5058824  0.47058824 0.43529412]\n",
      "   [0.50980395 0.4745098  0.4392157 ]]\n",
      "\n",
      "  [[0.00392157 0.00392157 0.00392157]\n",
      "   [0.00392157 0.00392157 0.00392157]\n",
      "   [0.00392157 0.00392157 0.00392157]\n",
      "   ...\n",
      "   [0.49745113 0.462157   0.4268629 ]\n",
      "   [0.50200003 0.4667059  0.43141177]\n",
      "   [0.5058824  0.47058824 0.43529412]]]\n",
      "\n",
      "\n",
      " [[[0.6798693  0.63673204 0.6218301 ]\n",
      "   [0.6819608  0.63882357 0.6231373 ]\n",
      "   [0.68235296 0.63980395 0.6145098 ]\n",
      "   ...\n",
      "   [0.3917647  0.38       0.35254902]\n",
      "   [0.37333348 0.36156878 0.34196094]\n",
      "   [0.37175187 0.35214403 0.33645776]]\n",
      "\n",
      "  [[0.6798693  0.6328105  0.6406536 ]\n",
      "   [0.6819608  0.634902   0.634902  ]\n",
      "   [0.687451   0.64431375 0.63555557]\n",
      "   ...\n",
      "   [0.3732682  0.36150348 0.34189564]\n",
      "   [0.38537252 0.37321553 0.35439226]\n",
      "   [0.37852272 0.35891488 0.34715018]]\n",
      "\n",
      "  [[0.6830719  0.6379739  0.6340523 ]\n",
      "   [0.6841177  0.6390196  0.6350981 ]\n",
      "   [0.69411767 0.6509804  0.6392157 ]\n",
      "   ...\n",
      "   [0.37124217 0.3555559  0.33790883]\n",
      "   [0.39568615 0.3780391  0.3662744 ]\n",
      "   [0.37627435 0.35862726 0.34686255]]\n",
      "\n",
      "  ...\n",
      "\n",
      "  [[0.6739869  0.6543791  0.64261436]\n",
      "   [0.6539216  0.64882356 0.6335294 ]\n",
      "   [0.6647059  0.66078436 0.6450981 ]\n",
      "   ...\n",
      "   [0.30980393 0.30980393 0.30980393]\n",
      "   [0.31745094 0.31745094 0.31745094]\n",
      "   [0.3130065  0.3130065  0.31588256]]\n",
      "\n",
      "  [[0.6919347  0.67232686 0.66056216]\n",
      "   [0.68678445 0.6746276  0.6558041 ]\n",
      "   [0.68098044 0.66921574 0.6496079 ]\n",
      "   ...\n",
      "   [0.31254908 0.31254908 0.31254908]\n",
      "   [0.3069411  0.3069411  0.3069411 ]\n",
      "   [0.3186537  0.3186537  0.32649684]]\n",
      "\n",
      "  [[0.70430064 0.6846928  0.6693987 ]\n",
      "   [0.7160784  0.7043137  0.68470585]\n",
      "   [0.72098035 0.70921564 0.6896078 ]\n",
      "   ...\n",
      "   [0.32470584 0.32470584 0.33254898]\n",
      "   [0.3164703  0.3164703  0.32360753]\n",
      "   [0.3279741  0.3279741  0.33581725]]]\n",
      "\n",
      "\n",
      " ...\n",
      "\n",
      "\n",
      " [[[0.6364314  0.53054905 0.44819608]\n",
      "   [0.57945096 0.4735686  0.39121565]\n",
      "   [0.62098044 0.51901966 0.42882353]\n",
      "   ...\n",
      "   [0.74509805 0.7176471  0.64705884]\n",
      "   [0.7454902  0.7180392  0.647451  ]\n",
      "   [0.74916345 0.72171247 0.65112424]]\n",
      "\n",
      "  [[0.6192549  0.52513725 0.4310196 ]\n",
      "   [0.5795294  0.48541176 0.39129412]\n",
      "   [0.62705886 0.5329412  0.4388235 ]\n",
      "   ...\n",
      "   [0.74673194 0.71928096 0.6486927 ]\n",
      "   [0.7465491  0.71909815 0.6485099 ]\n",
      "   [0.75219613 0.72474515 0.6541569 ]]\n",
      "\n",
      "  [[0.6042484  0.51013076 0.41601306]\n",
      "   [0.6121569  0.5180393  0.42392159]\n",
      "   [0.6212418  0.5232026  0.42712414]\n",
      "   ...\n",
      "   [0.7526145  0.72516346 0.65849686]\n",
      "   [0.7509804  0.72352946 0.65686274]\n",
      "   [0.7490196  0.72156864 0.654902  ]]\n",
      "\n",
      "  ...\n",
      "\n",
      "  [[0.         0.         0.        ]\n",
      "   [0.         0.         0.        ]\n",
      "   [0.         0.         0.        ]\n",
      "   ...\n",
      "   [0.5921569  0.56078434 0.50980395]\n",
      "   [0.5919607  0.55274504 0.5056862 ]\n",
      "   [0.5867973  0.5475816  0.5005228 ]]\n",
      "\n",
      "  [[0.         0.         0.        ]\n",
      "   [0.         0.         0.        ]\n",
      "   [0.         0.         0.        ]\n",
      "   ...\n",
      "   [0.5845098  0.55313724 0.50215685]\n",
      "   [0.58549017 0.5462745  0.49921563]\n",
      "   [0.58405215 0.54483646 0.4977776 ]]\n",
      "\n",
      "  [[0.         0.         0.        ]\n",
      "   [0.         0.         0.        ]\n",
      "   [0.         0.         0.        ]\n",
      "   ...\n",
      "   [0.5803922  0.54901963 0.49803922]\n",
      "   [0.58431375 0.54509807 0.49803922]\n",
      "   [0.5764706  0.5372549  0.49019608]]]\n",
      "\n",
      "\n",
      " [[[0.9843137  0.9764706  0.98039216]\n",
      "   [0.9843137  0.9764706  0.98039216]\n",
      "   [0.9843137  0.9764706  0.98039216]\n",
      "   ...\n",
      "   [0.27411765 0.25843138 0.22313726]\n",
      "   [0.267765   0.2510195  0.2082353 ]\n",
      "   [0.26890188 0.2532156  0.21295439]]\n",
      "\n",
      "  [[0.9843137  0.9764706  0.98039216]\n",
      "   [0.9843137  0.9764706  0.98039216]\n",
      "   [0.9843137  0.9764706  0.98039216]\n",
      "   ...\n",
      "   [0.26339856 0.24771225 0.204575  ]\n",
      "   [0.26156864 0.24588235 0.2027451 ]\n",
      "   [0.2627451  0.24705882 0.20392157]]\n",
      "\n",
      "  [[0.9843137  0.9764706  0.98039216]\n",
      "   [0.9843137  0.9764706  0.98039216]\n",
      "   [0.9843137  0.9764706  0.98039216]\n",
      "   ...\n",
      "   [0.27058825 0.25490198 0.21176471]\n",
      "   [0.25882354 0.24313726 0.2       ]\n",
      "   [0.255621   0.24509804 0.20607862]]\n",
      "\n",
      "  ...\n",
      "\n",
      "  [[0.41836601 0.4556209  0.5320915 ]\n",
      "   [0.44686276 0.4709804  0.56000006]\n",
      "   [0.48006535 0.50359476 0.6003268 ]\n",
      "   ...\n",
      "   [0.01960784 0.01176471 0.02352941]\n",
      "   [0.02352941 0.01568628 0.02745098]\n",
      "   [0.02156863 0.01372549 0.0254902 ]]\n",
      "\n",
      "  [[0.44030148 0.48805314 0.5527197 ]\n",
      "   [0.46384358 0.49035344 0.5680004 ]\n",
      "   [0.4733987  0.4918301  0.5816339 ]\n",
      "   ...\n",
      "   [0.02006526 0.01222212 0.02398682]\n",
      "   [0.02352941 0.01568628 0.02745098]\n",
      "   [0.02352941 0.01568628 0.02745098]]\n",
      "\n",
      "  [[0.7649673  0.8036732  0.8234119 ]\n",
      "   [0.780039   0.7930194  0.8283528 ]\n",
      "   [0.7723525  0.7743787  0.8226141 ]\n",
      "   ...\n",
      "   [0.02026128 0.01241814 0.02418285]\n",
      "   [0.02352941 0.01568628 0.02745098]\n",
      "   [0.02352941 0.01568628 0.02745098]]]\n",
      "\n",
      "\n",
      " [[[0.5441961  0.57047063 0.5081177 ]\n",
      "   [0.5532941  0.5721177  0.49415687]\n",
      "   [0.5584314  0.555817   0.510719  ]\n",
      "   ...\n",
      "   [0.4114379  0.39764753 0.340915  ]\n",
      "   [0.38670576 0.40199974 0.34588295]\n",
      "   [0.3564574  0.3718953  0.410863  ]]\n",
      "\n",
      "  [[0.5577778  0.5600392  0.50775164]\n",
      "   [0.5541177  0.5545098  0.49529412]\n",
      "   [0.56405234 0.54346406 0.5052288 ]\n",
      "   ...\n",
      "   [0.39849654 0.39150342 0.34836578]\n",
      "   [0.37580368 0.38039216 0.35176486]\n",
      "   [0.37790862 0.3925883  0.4048761 ]]\n",
      "\n",
      "  [[0.57058823 0.5511765  0.51320267]\n",
      "   [0.5647059  0.53784317 0.50235295]\n",
      "   [0.5689543  0.5336602  0.51013076]\n",
      "   ...\n",
      "   [0.3833331  0.3866012  0.3653593 ]\n",
      "   [0.3688236  0.37666672 0.3688236 ]\n",
      "   [0.37895414 0.39071885 0.3828757 ]]\n",
      "\n",
      "  ...\n",
      "\n",
      "  [[0.519085   0.48555556 0.50980395]\n",
      "   [0.51745105 0.49745098 0.50745106]\n",
      "   [0.5130719  0.49738562 0.5006536 ]\n",
      "   ...\n",
      "   [0.5408498  0.55261445 0.5800655 ]\n",
      "   [0.5394119  0.55117655 0.5786276 ]\n",
      "   [0.53797394 0.5483006  0.58790886]]\n",
      "\n",
      "  [[0.5067973  0.4675816  0.49895418]\n",
      "   [0.51215684 0.48352936 0.5113725 ]\n",
      "   [0.50522876 0.48562092 0.5013072 ]\n",
      "   ...\n",
      "   [0.54901963 0.56078434 0.5882353 ]\n",
      "   [0.5411765  0.5529412  0.5803922 ]\n",
      "   [0.53869295 0.54901963 0.5886279 ]]\n",
      "\n",
      "  [[0.49411765 0.45882353 0.4684968 ]\n",
      "   [0.49454904 0.470902   0.4795687 ]\n",
      "   [0.4948366  0.47875816 0.48385626]\n",
      "   ...\n",
      "   [0.53019613 0.54196084 0.5694118 ]\n",
      "   [0.53729415 0.54905885 0.57650983]\n",
      "   [0.5411765  0.5515032  0.59111136]]]]\n"
     ]
    }
   ],
   "source": [
    "# Explore what values are used to represent the image.\n",
    "(first_image, first_lable) = list(dataset_train.take(1))[0]\n",
    "print('Label:', first_lable.numpy(), '\\n')\n",
    "print('Image shape:', first_image.numpy().shape, '\\n')\n",
    "print(first_image.numpy())"
   ]
  },
  {
   "cell_type": "code",
   "execution_count": null,
   "metadata": {},
   "outputs": [],
   "source": [
    "def augment_flip(image: tf.Tensor) -> tf.Tensor:\n",
    "    image = tf.image.random_flip_left_right(image)\n",
    "    image = tf.image.random_flip_up_down(image)\n",
    "    return image"
   ]
  },
  {
   "cell_type": "code",
   "execution_count": null,
   "metadata": {},
   "outputs": [],
   "source": [
    "def augment_color(image: tf.Tensor) -> tf.Tensor:\n",
    "    image = tf.image.random_hue(image, max_delta=0.08)\n",
    "    image = tf.image.random_saturation(image, lower=0.7, upper=1.3)\n",
    "    image = tf.image.random_brightness(image, 0.05)\n",
    "    image = tf.image.random_contrast(image, lower=0.8, upper=1)\n",
    "    image = tf.clip_by_value(image, clip_value_min=0, clip_value_max=1)\n",
    "    return image"
   ]
  },
  {
   "cell_type": "code",
   "execution_count": null,
   "metadata": {},
   "outputs": [],
   "source": [
    "def augment_rotation(image: tf.Tensor) -> tf.Tensor:\n",
    "    # Rotate 0, 90, 180, 270 degrees\n",
    "    return tf.image.rot90(\n",
    "        image,\n",
    "        tf.random.uniform(shape=[], minval=0, maxval=4, dtype=tf.int32)\n",
    "    )"
   ]
  },
  {
   "cell_type": "code",
   "execution_count": null,
   "metadata": {},
   "outputs": [],
   "source": [
    "def augment_inversion(image: tf.Tensor) -> tf.Tensor:\n",
    "    random = tf.random.uniform(shape=[], minval=0, maxval=1)\n",
    "    if random > 0.5:\n",
    "        image = tf.math.multiply(image, -1)\n",
    "        image = tf.math.add(image, 1)\n",
    "    return image"
   ]
  },
  {
   "cell_type": "code",
   "execution_count": null,
   "metadata": {},
   "outputs": [],
   "source": [
    "def augment_zoom(image: tf.Tensor, min_zoom=0.8, max_zoom=1.0) -> tf.Tensor:\n",
    "    image_width, image_height, image_colors = image.shape\n",
    "    crop_size = (image_width, image_height)\n",
    "\n",
    "    # Generate crop settings, ranging from a 1% to 20% crop.\n",
    "    scales = list(np.arange(min_zoom, max_zoom, 0.01))\n",
    "    boxes = np.zeros((len(scales), 4))\n",
    "\n",
    "    for i, scale in enumerate(scales):\n",
    "        x1 = y1 = 0.5 - (0.5 * scale)\n",
    "        x2 = y2 = 0.5 + (0.5 * scale)\n",
    "        boxes[i] = [x1, y1, x2, y2]\n",
    "\n",
    "    def random_crop(img):\n",
    "        # Create different crops for an image\n",
    "        crops = tf.image.crop_and_resize(\n",
    "            [img],\n",
    "            boxes=boxes,\n",
    "            box_indices=np.zeros(len(scales)),\n",
    "            crop_size=crop_size\n",
    "        )\n",
    "        # Return a random crop\n",
    "        return crops[tf.random.uniform(shape=[], minval=0, maxval=len(scales), dtype=tf.int32)]\n",
    "\n",
    "    choice = tf.random.uniform(shape=[], minval=0., maxval=1., dtype=tf.float32)\n",
    "\n",
    "    # Only apply cropping 50% of the time\n",
    "    return tf.cond(choice < 0.5, lambda: image, lambda: random_crop(image))"
   ]
  },
  {
   "cell_type": "code",
   "execution_count": null,
   "metadata": {},
   "outputs": [],
   "source": [
    "def augment_data(features):\n",
    "    image = features[\"image\"]\n",
    "    label = features[\"label\"]\n",
    "    \n",
    "    image = augment_flip(image)\n",
    "    image = augment_color(image)\n",
    "    image = augment_rotation(image)\n",
    "    image = augment_zoom(image)\n",
    "    image = augment_inversion(image)\n",
    "    return image, label"
   ]
  },
  {
   "cell_type": "code",
   "execution_count": null,
   "metadata": {},
   "outputs": [],
   "source": [
    "dataset_train = dataset_train.map(augment_data)"
   ]
  },
  {
   "cell_type": "code",
   "execution_count": 13,
   "metadata": {},
   "outputs": [],
   "source": [
    "BATCH_SIZE = 32\n",
    "\n",
    "dataset_train = dataset_train.shuffle(\n",
    "    buffer_size=NUM_TRAIN_EXAMPLES\n",
    ")\n",
    "\n",
    "dataset_train = dataset_train.batch(\n",
    "    batch_size=BATCH_SIZE\n",
    ")\n",
    "\n",
    "# Prefetch will enable the input pipeline to asynchronously fetch batches while your model is training.\n",
    "dataset_train = dataset_train.prefetch(\n",
    "    buffer_size=tf.data.experimental.AUTOTUNE\n",
    ")\n",
    "\n",
    "dataset_test = dataset_test.batch(BATCH_SIZE)"
   ]
  },
  {
   "cell_type": "code",
   "execution_count": 17,
   "metadata": {},
   "outputs": [
    {
     "data": {
      "text/html": [
       "<pre style=\"white-space:pre;overflow-x:auto;line-height:normal;font-family:Menlo,'DejaVu Sans Mono',consolas,'Courier New',monospace\"><span style=\"font-weight: bold\">Model: \"sequential\"</span>\n",
       "</pre>\n"
      ],
      "text/plain": [
       "\u001b[1mModel: \"sequential\"\u001b[0m\n"
      ]
     },
     "metadata": {},
     "output_type": "display_data"
    },
    {
     "data": {
      "text/html": [
       "<pre style=\"white-space:pre;overflow-x:auto;line-height:normal;font-family:Menlo,'DejaVu Sans Mono',consolas,'Courier New',monospace\">┏━━━━━━━━━━━━━━━━━━━━━━━━━━━━━━━━━┳━━━━━━━━━━━━━━━━━━━━━━━━┳━━━━━━━━━━━━━━━┓\n",
       "┃<span style=\"font-weight: bold\"> Layer (type)                    </span>┃<span style=\"font-weight: bold\"> Output Shape           </span>┃<span style=\"font-weight: bold\">       Param # </span>┃\n",
       "┡━━━━━━━━━━━━━━━━━━━━━━━━━━━━━━━━━╇━━━━━━━━━━━━━━━━━━━━━━━━╇━━━━━━━━━━━━━━━┩\n",
       "│ conv2d (<span style=\"color: #0087ff; text-decoration-color: #0087ff\">Conv2D</span>)                 │ (<span style=\"color: #00d7ff; text-decoration-color: #00d7ff\">None</span>, <span style=\"color: #00af00; text-decoration-color: #00af00\">148</span>, <span style=\"color: #00af00; text-decoration-color: #00af00\">148</span>, <span style=\"color: #00af00; text-decoration-color: #00af00\">64</span>)   │         <span style=\"color: #00af00; text-decoration-color: #00af00\">1,792</span> │\n",
       "├─────────────────────────────────┼────────────────────────┼───────────────┤\n",
       "│ max_pooling2d (<span style=\"color: #0087ff; text-decoration-color: #0087ff\">MaxPooling2D</span>)    │ (<span style=\"color: #00d7ff; text-decoration-color: #00d7ff\">None</span>, <span style=\"color: #00af00; text-decoration-color: #00af00\">74</span>, <span style=\"color: #00af00; text-decoration-color: #00af00\">74</span>, <span style=\"color: #00af00; text-decoration-color: #00af00\">64</span>)     │             <span style=\"color: #00af00; text-decoration-color: #00af00\">0</span> │\n",
       "├─────────────────────────────────┼────────────────────────┼───────────────┤\n",
       "│ conv2d_1 (<span style=\"color: #0087ff; text-decoration-color: #0087ff\">Conv2D</span>)               │ (<span style=\"color: #00d7ff; text-decoration-color: #00d7ff\">None</span>, <span style=\"color: #00af00; text-decoration-color: #00af00\">72</span>, <span style=\"color: #00af00; text-decoration-color: #00af00\">72</span>, <span style=\"color: #00af00; text-decoration-color: #00af00\">64</span>)     │        <span style=\"color: #00af00; text-decoration-color: #00af00\">36,928</span> │\n",
       "├─────────────────────────────────┼────────────────────────┼───────────────┤\n",
       "│ max_pooling2d_1 (<span style=\"color: #0087ff; text-decoration-color: #0087ff\">MaxPooling2D</span>)  │ (<span style=\"color: #00d7ff; text-decoration-color: #00d7ff\">None</span>, <span style=\"color: #00af00; text-decoration-color: #00af00\">36</span>, <span style=\"color: #00af00; text-decoration-color: #00af00\">36</span>, <span style=\"color: #00af00; text-decoration-color: #00af00\">64</span>)     │             <span style=\"color: #00af00; text-decoration-color: #00af00\">0</span> │\n",
       "├─────────────────────────────────┼────────────────────────┼───────────────┤\n",
       "│ conv2d_2 (<span style=\"color: #0087ff; text-decoration-color: #0087ff\">Conv2D</span>)               │ (<span style=\"color: #00d7ff; text-decoration-color: #00d7ff\">None</span>, <span style=\"color: #00af00; text-decoration-color: #00af00\">34</span>, <span style=\"color: #00af00; text-decoration-color: #00af00\">34</span>, <span style=\"color: #00af00; text-decoration-color: #00af00\">128</span>)    │        <span style=\"color: #00af00; text-decoration-color: #00af00\">73,856</span> │\n",
       "├─────────────────────────────────┼────────────────────────┼───────────────┤\n",
       "│ max_pooling2d_2 (<span style=\"color: #0087ff; text-decoration-color: #0087ff\">MaxPooling2D</span>)  │ (<span style=\"color: #00d7ff; text-decoration-color: #00d7ff\">None</span>, <span style=\"color: #00af00; text-decoration-color: #00af00\">17</span>, <span style=\"color: #00af00; text-decoration-color: #00af00\">17</span>, <span style=\"color: #00af00; text-decoration-color: #00af00\">128</span>)    │             <span style=\"color: #00af00; text-decoration-color: #00af00\">0</span> │\n",
       "├─────────────────────────────────┼────────────────────────┼───────────────┤\n",
       "│ conv2d_3 (<span style=\"color: #0087ff; text-decoration-color: #0087ff\">Conv2D</span>)               │ (<span style=\"color: #00d7ff; text-decoration-color: #00d7ff\">None</span>, <span style=\"color: #00af00; text-decoration-color: #00af00\">15</span>, <span style=\"color: #00af00; text-decoration-color: #00af00\">15</span>, <span style=\"color: #00af00; text-decoration-color: #00af00\">128</span>)    │       <span style=\"color: #00af00; text-decoration-color: #00af00\">147,584</span> │\n",
       "├─────────────────────────────────┼────────────────────────┼───────────────┤\n",
       "│ max_pooling2d_3 (<span style=\"color: #0087ff; text-decoration-color: #0087ff\">MaxPooling2D</span>)  │ (<span style=\"color: #00d7ff; text-decoration-color: #00d7ff\">None</span>, <span style=\"color: #00af00; text-decoration-color: #00af00\">7</span>, <span style=\"color: #00af00; text-decoration-color: #00af00\">7</span>, <span style=\"color: #00af00; text-decoration-color: #00af00\">128</span>)      │             <span style=\"color: #00af00; text-decoration-color: #00af00\">0</span> │\n",
       "├─────────────────────────────────┼────────────────────────┼───────────────┤\n",
       "│ flatten (<span style=\"color: #0087ff; text-decoration-color: #0087ff\">Flatten</span>)               │ (<span style=\"color: #00d7ff; text-decoration-color: #00d7ff\">None</span>, <span style=\"color: #00af00; text-decoration-color: #00af00\">6272</span>)           │             <span style=\"color: #00af00; text-decoration-color: #00af00\">0</span> │\n",
       "├─────────────────────────────────┼────────────────────────┼───────────────┤\n",
       "│ dropout (<span style=\"color: #0087ff; text-decoration-color: #0087ff\">Dropout</span>)               │ (<span style=\"color: #00d7ff; text-decoration-color: #00d7ff\">None</span>, <span style=\"color: #00af00; text-decoration-color: #00af00\">6272</span>)           │             <span style=\"color: #00af00; text-decoration-color: #00af00\">0</span> │\n",
       "├─────────────────────────────────┼────────────────────────┼───────────────┤\n",
       "│ dense (<span style=\"color: #0087ff; text-decoration-color: #0087ff\">Dense</span>)                   │ (<span style=\"color: #00d7ff; text-decoration-color: #00d7ff\">None</span>, <span style=\"color: #00af00; text-decoration-color: #00af00\">512</span>)            │     <span style=\"color: #00af00; text-decoration-color: #00af00\">3,211,776</span> │\n",
       "├─────────────────────────────────┼────────────────────────┼───────────────┤\n",
       "│ dense_1 (<span style=\"color: #0087ff; text-decoration-color: #0087ff\">Dense</span>)                 │ (<span style=\"color: #00d7ff; text-decoration-color: #00d7ff\">None</span>, <span style=\"color: #00af00; text-decoration-color: #00af00\">3</span>)              │         <span style=\"color: #00af00; text-decoration-color: #00af00\">1,539</span> │\n",
       "└─────────────────────────────────┴────────────────────────┴───────────────┘\n",
       "</pre>\n"
      ],
      "text/plain": [
       "┏━━━━━━━━━━━━━━━━━━━━━━━━━━━━━━━━━┳━━━━━━━━━━━━━━━━━━━━━━━━┳━━━━━━━━━━━━━━━┓\n",
       "┃\u001b[1m \u001b[0m\u001b[1mLayer (type)                   \u001b[0m\u001b[1m \u001b[0m┃\u001b[1m \u001b[0m\u001b[1mOutput Shape          \u001b[0m\u001b[1m \u001b[0m┃\u001b[1m \u001b[0m\u001b[1m      Param #\u001b[0m\u001b[1m \u001b[0m┃\n",
       "┡━━━━━━━━━━━━━━━━━━━━━━━━━━━━━━━━━╇━━━━━━━━━━━━━━━━━━━━━━━━╇━━━━━━━━━━━━━━━┩\n",
       "│ conv2d (\u001b[38;5;33mConv2D\u001b[0m)                 │ (\u001b[38;5;45mNone\u001b[0m, \u001b[38;5;34m148\u001b[0m, \u001b[38;5;34m148\u001b[0m, \u001b[38;5;34m64\u001b[0m)   │         \u001b[38;5;34m1,792\u001b[0m │\n",
       "├─────────────────────────────────┼────────────────────────┼───────────────┤\n",
       "│ max_pooling2d (\u001b[38;5;33mMaxPooling2D\u001b[0m)    │ (\u001b[38;5;45mNone\u001b[0m, \u001b[38;5;34m74\u001b[0m, \u001b[38;5;34m74\u001b[0m, \u001b[38;5;34m64\u001b[0m)     │             \u001b[38;5;34m0\u001b[0m │\n",
       "├─────────────────────────────────┼────────────────────────┼───────────────┤\n",
       "│ conv2d_1 (\u001b[38;5;33mConv2D\u001b[0m)               │ (\u001b[38;5;45mNone\u001b[0m, \u001b[38;5;34m72\u001b[0m, \u001b[38;5;34m72\u001b[0m, \u001b[38;5;34m64\u001b[0m)     │        \u001b[38;5;34m36,928\u001b[0m │\n",
       "├─────────────────────────────────┼────────────────────────┼───────────────┤\n",
       "│ max_pooling2d_1 (\u001b[38;5;33mMaxPooling2D\u001b[0m)  │ (\u001b[38;5;45mNone\u001b[0m, \u001b[38;5;34m36\u001b[0m, \u001b[38;5;34m36\u001b[0m, \u001b[38;5;34m64\u001b[0m)     │             \u001b[38;5;34m0\u001b[0m │\n",
       "├─────────────────────────────────┼────────────────────────┼───────────────┤\n",
       "│ conv2d_2 (\u001b[38;5;33mConv2D\u001b[0m)               │ (\u001b[38;5;45mNone\u001b[0m, \u001b[38;5;34m34\u001b[0m, \u001b[38;5;34m34\u001b[0m, \u001b[38;5;34m128\u001b[0m)    │        \u001b[38;5;34m73,856\u001b[0m │\n",
       "├─────────────────────────────────┼────────────────────────┼───────────────┤\n",
       "│ max_pooling2d_2 (\u001b[38;5;33mMaxPooling2D\u001b[0m)  │ (\u001b[38;5;45mNone\u001b[0m, \u001b[38;5;34m17\u001b[0m, \u001b[38;5;34m17\u001b[0m, \u001b[38;5;34m128\u001b[0m)    │             \u001b[38;5;34m0\u001b[0m │\n",
       "├─────────────────────────────────┼────────────────────────┼───────────────┤\n",
       "│ conv2d_3 (\u001b[38;5;33mConv2D\u001b[0m)               │ (\u001b[38;5;45mNone\u001b[0m, \u001b[38;5;34m15\u001b[0m, \u001b[38;5;34m15\u001b[0m, \u001b[38;5;34m128\u001b[0m)    │       \u001b[38;5;34m147,584\u001b[0m │\n",
       "├─────────────────────────────────┼────────────────────────┼───────────────┤\n",
       "│ max_pooling2d_3 (\u001b[38;5;33mMaxPooling2D\u001b[0m)  │ (\u001b[38;5;45mNone\u001b[0m, \u001b[38;5;34m7\u001b[0m, \u001b[38;5;34m7\u001b[0m, \u001b[38;5;34m128\u001b[0m)      │             \u001b[38;5;34m0\u001b[0m │\n",
       "├─────────────────────────────────┼────────────────────────┼───────────────┤\n",
       "│ flatten (\u001b[38;5;33mFlatten\u001b[0m)               │ (\u001b[38;5;45mNone\u001b[0m, \u001b[38;5;34m6272\u001b[0m)           │             \u001b[38;5;34m0\u001b[0m │\n",
       "├─────────────────────────────────┼────────────────────────┼───────────────┤\n",
       "│ dropout (\u001b[38;5;33mDropout\u001b[0m)               │ (\u001b[38;5;45mNone\u001b[0m, \u001b[38;5;34m6272\u001b[0m)           │             \u001b[38;5;34m0\u001b[0m │\n",
       "├─────────────────────────────────┼────────────────────────┼───────────────┤\n",
       "│ dense (\u001b[38;5;33mDense\u001b[0m)                   │ (\u001b[38;5;45mNone\u001b[0m, \u001b[38;5;34m512\u001b[0m)            │     \u001b[38;5;34m3,211,776\u001b[0m │\n",
       "├─────────────────────────────────┼────────────────────────┼───────────────┤\n",
       "│ dense_1 (\u001b[38;5;33mDense\u001b[0m)                 │ (\u001b[38;5;45mNone\u001b[0m, \u001b[38;5;34m3\u001b[0m)              │         \u001b[38;5;34m1,539\u001b[0m │\n",
       "└─────────────────────────────────┴────────────────────────┴───────────────┘\n"
      ]
     },
     "metadata": {},
     "output_type": "display_data"
    },
    {
     "data": {
      "text/html": [
       "<pre style=\"white-space:pre;overflow-x:auto;line-height:normal;font-family:Menlo,'DejaVu Sans Mono',consolas,'Courier New',monospace\"><span style=\"font-weight: bold\"> Total params: </span><span style=\"color: #00af00; text-decoration-color: #00af00\">6,946,952</span> (26.50 MB)\n",
       "</pre>\n"
      ],
      "text/plain": [
       "\u001b[1m Total params: \u001b[0m\u001b[38;5;34m6,946,952\u001b[0m (26.50 MB)\n"
      ]
     },
     "metadata": {},
     "output_type": "display_data"
    },
    {
     "data": {
      "text/html": [
       "<pre style=\"white-space:pre;overflow-x:auto;line-height:normal;font-family:Menlo,'DejaVu Sans Mono',consolas,'Courier New',monospace\"><span style=\"font-weight: bold\"> Trainable params: </span><span style=\"color: #00af00; text-decoration-color: #00af00\">3,473,475</span> (13.25 MB)\n",
       "</pre>\n"
      ],
      "text/plain": [
       "\u001b[1m Trainable params: \u001b[0m\u001b[38;5;34m3,473,475\u001b[0m (13.25 MB)\n"
      ]
     },
     "metadata": {},
     "output_type": "display_data"
    },
    {
     "data": {
      "text/html": [
       "<pre style=\"white-space:pre;overflow-x:auto;line-height:normal;font-family:Menlo,'DejaVu Sans Mono',consolas,'Courier New',monospace\"><span style=\"font-weight: bold\"> Non-trainable params: </span><span style=\"color: #00af00; text-decoration-color: #00af00\">0</span> (0.00 B)\n",
       "</pre>\n"
      ],
      "text/plain": [
       "\u001b[1m Non-trainable params: \u001b[0m\u001b[38;5;34m0\u001b[0m (0.00 B)\n"
      ]
     },
     "metadata": {},
     "output_type": "display_data"
    },
    {
     "data": {
      "text/html": [
       "<pre style=\"white-space:pre;overflow-x:auto;line-height:normal;font-family:Menlo,'DejaVu Sans Mono',consolas,'Courier New',monospace\"><span style=\"font-weight: bold\"> Optimizer params: </span><span style=\"color: #00af00; text-decoration-color: #00af00\">3,473,477</span> (13.25 MB)\n",
       "</pre>\n"
      ],
      "text/plain": [
       "\u001b[1m Optimizer params: \u001b[0m\u001b[38;5;34m3,473,477\u001b[0m (13.25 MB)\n"
      ]
     },
     "metadata": {},
     "output_type": "display_data"
    }
   ],
   "source": [
    "#Load model\n",
    "model = tf.keras.models.load_model('rock_paper_scissors_cnn.keras')\n",
    "\n",
    "model.summary()"
   ]
  },
  {
   "cell_type": "code",
   "execution_count": 20,
   "metadata": {},
   "outputs": [
    {
     "name": "stdout",
     "output_type": "stream",
     "text": [
      "\u001b[1m23/23\u001b[0m \u001b[32m━━━━━━━━━━━━━━━━━━━━\u001b[0m\u001b[37m\u001b[0m \u001b[1m1s\u001b[0m 42ms/step - accuracy: 0.2603 - loss: 2.7140\n"
     ]
    },
    {
     "data": {
      "text/plain": [
       "[2.4972243309020996, 0.28650903701782227]"
      ]
     },
     "execution_count": 20,
     "metadata": {},
     "output_type": "execute_result"
    }
   ],
   "source": [
    "# Test model with our dataset\n",
    "model.evaluate(dataset_test)"
   ]
  }
 ],
 "metadata": {
  "kernelspec": {
   "display_name": "Python 3",
   "language": "python",
   "name": "python3"
  },
  "language_info": {
   "codemirror_mode": {
    "name": "ipython",
    "version": 3
   },
   "file_extension": ".py",
   "mimetype": "text/x-python",
   "name": "python",
   "nbconvert_exporter": "python",
   "pygments_lexer": "ipython3",
   "version": "3.12.4"
  }
 },
 "nbformat": 4,
 "nbformat_minor": 2
}
