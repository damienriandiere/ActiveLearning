{
  "cells": [
    {
      "cell_type": "markdown",
      "metadata": {
        "id": "t_xO0gC2Ac3n"
      },
      "source": [
        "#Record two example videos"
      ]
    },
    {
      "cell_type": "code",
      "source": [
        "!rm -rf test/\n",
        "!rm -rf train/\n",
        "!rm -rf val/"
      ],
      "metadata": {
        "id": "7VqAzpVmP8lS"
      },
      "execution_count": 10,
      "outputs": []
    },
    {
      "cell_type": "code",
      "execution_count": 11,
      "metadata": {
        "id": "oUTH8wvEj84C"
      },
      "outputs": [],
      "source": [
        "from IPython.display import display, Javascript,HTML\n",
        "from google.colab.output import eval_js\n",
        "from base64 import b64decode\n",
        "import cv2\n",
        "from google.colab.patches import cv2_imshow\n",
        "import numpy as np\n",
        "import matplotlib.pyplot as plt\n",
        "import torch\n",
        "device = 'cuda' if torch.cuda.is_available() else 'cpu'\n",
        "\n",
        "def record_video(filename):\n",
        "  js=Javascript(\"\"\"\n",
        "    async function recordVideo() {\n",
        "      const options = { mimeType: \"video/webm; codecs=vp9\" };\n",
        "      const div = document.createElement('div');\n",
        "      const capture = document.createElement('button');\n",
        "      const stopCapture = document.createElement(\"button\");\n",
        "\n",
        "      capture.textContent = \"Start Recording\";\n",
        "      capture.style.background = \"orange\";\n",
        "      capture.style.color = \"white\";\n",
        "\n",
        "      stopCapture.textContent = \"Stop Recording\";\n",
        "      stopCapture.style.background = \"red\";\n",
        "      stopCapture.style.color = \"white\";\n",
        "      div.appendChild(capture);\n",
        "\n",
        "      const video = document.createElement('video');\n",
        "      const recordingVid = document.createElement(\"video\");\n",
        "      video.style.display = 'block';\n",
        "\n",
        "      const stream = await navigator.mediaDevices.getUserMedia({audio:true, video: true});\n",
        "\n",
        "      let recorder = new MediaRecorder(stream, options);\n",
        "      document.body.appendChild(div);\n",
        "      div.appendChild(video);\n",
        "\n",
        "      video.srcObject = stream;\n",
        "      video.muted = true;\n",
        "\n",
        "      await video.play();\n",
        "\n",
        "      google.colab.output.setIframeHeight(document.documentElement.scrollHeight, true);\n",
        "\n",
        "      await new Promise((resolve) => {\n",
        "        capture.onclick = resolve;\n",
        "      });\n",
        "      recorder.start();\n",
        "      capture.replaceWith(stopCapture);\n",
        "\n",
        "      await new Promise((resolve) => stopCapture.onclick = resolve);\n",
        "      recorder.stop();\n",
        "      let recData = await new Promise((resolve) => recorder.ondataavailable = resolve);\n",
        "      let arrBuff = await recData.data.arrayBuffer();\n",
        "\n",
        "      // stop the stream and remove the video element\n",
        "      stream.getVideoTracks()[0].stop();\n",
        "      div.remove();\n",
        "\n",
        "      let binaryString = \"\";\n",
        "      let bytes = new Uint8Array(arrBuff);\n",
        "      bytes.forEach((byte) => {\n",
        "        binaryString += String.fromCharCode(byte);\n",
        "      })\n",
        "    return btoa(binaryString);\n",
        "    }\n",
        "  \"\"\")\n",
        "  try:\n",
        "    display(js)\n",
        "    data=eval_js('recordVideo({})')\n",
        "    binary=b64decode(data)\n",
        "    with open(filename,\"wb\") as video_file:\n",
        "      video_file.write(binary)\n",
        "    print(f\"Finished recording video at:{filename}\")\n",
        "  except Exception as err:\n",
        "    print(str(err))\n",
        "\n",
        "def mp4_to_frames(mp4_dir):\n",
        "  cap = cv2.VideoCapture(mp4_dir)\n",
        "  ret, frame = cap.read()\n",
        "  imgs_list=[]\n",
        "  while ret:\n",
        "    frame_shrinked=[]\n",
        "    for i in range(frame.shape[-1]):\n",
        "      frame_shrinked.append(cv2.resize(np.squeeze(frame[:,:,i]), dsize=(int(frame.shape[1]/2),int(frame.shape[0]/2))))\n",
        "    imgs_list.append(np.array(frame_shrinked).transpose(1,2,0).astype(int))\n",
        "    ret, frame = cap.read()\n",
        "  return np.array(imgs_list)"
      ]
    },
    {
      "cell_type": "code",
      "execution_count": 3,
      "metadata": {
        "colab": {
          "base_uri": "https://localhost:8080/",
          "height": 35
        },
        "id": "rYtFyFXhvTGa",
        "outputId": "1c788627-e16c-4e89-984e-e0778a19f716"
      },
      "outputs": [
        {
          "output_type": "display_data",
          "data": {
            "text/plain": [
              "<IPython.core.display.Javascript object>"
            ],
            "application/javascript": [
              "\n",
              "    async function recordVideo() {\n",
              "      const options = { mimeType: \"video/webm; codecs=vp9\" };\n",
              "      const div = document.createElement('div');\n",
              "      const capture = document.createElement('button');\n",
              "      const stopCapture = document.createElement(\"button\");\n",
              "\n",
              "      capture.textContent = \"Start Recording\";\n",
              "      capture.style.background = \"orange\";\n",
              "      capture.style.color = \"white\";\n",
              "\n",
              "      stopCapture.textContent = \"Stop Recording\";\n",
              "      stopCapture.style.background = \"red\";\n",
              "      stopCapture.style.color = \"white\";\n",
              "      div.appendChild(capture);\n",
              "\n",
              "      const video = document.createElement('video');\n",
              "      const recordingVid = document.createElement(\"video\");\n",
              "      video.style.display = 'block';\n",
              "\n",
              "      const stream = await navigator.mediaDevices.getUserMedia({audio:true, video: true});\n",
              "\n",
              "      let recorder = new MediaRecorder(stream, options);\n",
              "      document.body.appendChild(div);\n",
              "      div.appendChild(video);\n",
              "\n",
              "      video.srcObject = stream;\n",
              "      video.muted = true;\n",
              "\n",
              "      await video.play();\n",
              "\n",
              "      google.colab.output.setIframeHeight(document.documentElement.scrollHeight, true);\n",
              "\n",
              "      await new Promise((resolve) => {\n",
              "        capture.onclick = resolve;\n",
              "      });\n",
              "      recorder.start();\n",
              "      capture.replaceWith(stopCapture);\n",
              "\n",
              "      await new Promise((resolve) => stopCapture.onclick = resolve);\n",
              "      recorder.stop();\n",
              "      let recData = await new Promise((resolve) => recorder.ondataavailable = resolve);\n",
              "      let arrBuff = await recData.data.arrayBuffer();\n",
              "\n",
              "      // stop the stream and remove the video element\n",
              "      stream.getVideoTracks()[0].stop();\n",
              "      div.remove();\n",
              "\n",
              "      let binaryString = \"\";\n",
              "      let bytes = new Uint8Array(arrBuff);\n",
              "      bytes.forEach((byte) => {\n",
              "        binaryString += String.fromCharCode(byte);\n",
              "      })\n",
              "    return btoa(binaryString);\n",
              "    }\n",
              "  "
            ]
          },
          "metadata": {}
        },
        {
          "output_type": "stream",
          "name": "stdout",
          "text": [
            "Finished recording video at:sample_data//scissors.mp4\n"
          ]
        }
      ],
      "source": [
        "video_path = \"sample_data//scissors.mp4\"\n",
        "record_video(video_path)\n",
        "# 1010 111 11 0110 001 1 0 010"
      ]
    },
    {
      "cell_type": "code",
      "execution_count": 4,
      "metadata": {
        "colab": {
          "base_uri": "https://localhost:8080/",
          "height": 35
        },
        "id": "9oY2jX36kXGV",
        "outputId": "738f913c-a9a2-4c23-c337-9146d1c4817c"
      },
      "outputs": [
        {
          "output_type": "display_data",
          "data": {
            "text/plain": [
              "<IPython.core.display.Javascript object>"
            ],
            "application/javascript": [
              "\n",
              "    async function recordVideo() {\n",
              "      const options = { mimeType: \"video/webm; codecs=vp9\" };\n",
              "      const div = document.createElement('div');\n",
              "      const capture = document.createElement('button');\n",
              "      const stopCapture = document.createElement(\"button\");\n",
              "\n",
              "      capture.textContent = \"Start Recording\";\n",
              "      capture.style.background = \"orange\";\n",
              "      capture.style.color = \"white\";\n",
              "\n",
              "      stopCapture.textContent = \"Stop Recording\";\n",
              "      stopCapture.style.background = \"red\";\n",
              "      stopCapture.style.color = \"white\";\n",
              "      div.appendChild(capture);\n",
              "\n",
              "      const video = document.createElement('video');\n",
              "      const recordingVid = document.createElement(\"video\");\n",
              "      video.style.display = 'block';\n",
              "\n",
              "      const stream = await navigator.mediaDevices.getUserMedia({audio:true, video: true});\n",
              "\n",
              "      let recorder = new MediaRecorder(stream, options);\n",
              "      document.body.appendChild(div);\n",
              "      div.appendChild(video);\n",
              "\n",
              "      video.srcObject = stream;\n",
              "      video.muted = true;\n",
              "\n",
              "      await video.play();\n",
              "\n",
              "      google.colab.output.setIframeHeight(document.documentElement.scrollHeight, true);\n",
              "\n",
              "      await new Promise((resolve) => {\n",
              "        capture.onclick = resolve;\n",
              "      });\n",
              "      recorder.start();\n",
              "      capture.replaceWith(stopCapture);\n",
              "\n",
              "      await new Promise((resolve) => stopCapture.onclick = resolve);\n",
              "      recorder.stop();\n",
              "      let recData = await new Promise((resolve) => recorder.ondataavailable = resolve);\n",
              "      let arrBuff = await recData.data.arrayBuffer();\n",
              "\n",
              "      // stop the stream and remove the video element\n",
              "      stream.getVideoTracks()[0].stop();\n",
              "      div.remove();\n",
              "\n",
              "      let binaryString = \"\";\n",
              "      let bytes = new Uint8Array(arrBuff);\n",
              "      bytes.forEach((byte) => {\n",
              "        binaryString += String.fromCharCode(byte);\n",
              "      })\n",
              "    return btoa(binaryString);\n",
              "    }\n",
              "  "
            ]
          },
          "metadata": {}
        },
        {
          "output_type": "stream",
          "name": "stdout",
          "text": [
            "Finished recording video at:sample_data//rock.mp4\n"
          ]
        }
      ],
      "source": [
        "video_path = \"sample_data//rock.mp4\"\n",
        "record_video(video_path)"
      ]
    },
    {
      "cell_type": "code",
      "source": [
        "video_path = \"sample_data//paper.mp4\"\n",
        "record_video(video_path)"
      ],
      "metadata": {
        "id": "qLp4p_gZdmG9",
        "colab": {
          "base_uri": "https://localhost:8080/",
          "height": 35
        },
        "outputId": "35ec3b5a-3e87-47e8-b54f-adaf16352f40"
      },
      "execution_count": 5,
      "outputs": [
        {
          "output_type": "display_data",
          "data": {
            "text/plain": [
              "<IPython.core.display.Javascript object>"
            ],
            "application/javascript": [
              "\n",
              "    async function recordVideo() {\n",
              "      const options = { mimeType: \"video/webm; codecs=vp9\" };\n",
              "      const div = document.createElement('div');\n",
              "      const capture = document.createElement('button');\n",
              "      const stopCapture = document.createElement(\"button\");\n",
              "\n",
              "      capture.textContent = \"Start Recording\";\n",
              "      capture.style.background = \"orange\";\n",
              "      capture.style.color = \"white\";\n",
              "\n",
              "      stopCapture.textContent = \"Stop Recording\";\n",
              "      stopCapture.style.background = \"red\";\n",
              "      stopCapture.style.color = \"white\";\n",
              "      div.appendChild(capture);\n",
              "\n",
              "      const video = document.createElement('video');\n",
              "      const recordingVid = document.createElement(\"video\");\n",
              "      video.style.display = 'block';\n",
              "\n",
              "      const stream = await navigator.mediaDevices.getUserMedia({audio:true, video: true});\n",
              "\n",
              "      let recorder = new MediaRecorder(stream, options);\n",
              "      document.body.appendChild(div);\n",
              "      div.appendChild(video);\n",
              "\n",
              "      video.srcObject = stream;\n",
              "      video.muted = true;\n",
              "\n",
              "      await video.play();\n",
              "\n",
              "      google.colab.output.setIframeHeight(document.documentElement.scrollHeight, true);\n",
              "\n",
              "      await new Promise((resolve) => {\n",
              "        capture.onclick = resolve;\n",
              "      });\n",
              "      recorder.start();\n",
              "      capture.replaceWith(stopCapture);\n",
              "\n",
              "      await new Promise((resolve) => stopCapture.onclick = resolve);\n",
              "      recorder.stop();\n",
              "      let recData = await new Promise((resolve) => recorder.ondataavailable = resolve);\n",
              "      let arrBuff = await recData.data.arrayBuffer();\n",
              "\n",
              "      // stop the stream and remove the video element\n",
              "      stream.getVideoTracks()[0].stop();\n",
              "      div.remove();\n",
              "\n",
              "      let binaryString = \"\";\n",
              "      let bytes = new Uint8Array(arrBuff);\n",
              "      bytes.forEach((byte) => {\n",
              "        binaryString += String.fromCharCode(byte);\n",
              "      })\n",
              "    return btoa(binaryString);\n",
              "    }\n",
              "  "
            ]
          },
          "metadata": {}
        },
        {
          "output_type": "stream",
          "name": "stdout",
          "text": [
            "Finished recording video at:sample_data//paper.mp4\n"
          ]
        }
      ]
    },
    {
      "cell_type": "code",
      "execution_count": 14,
      "metadata": {
        "colab": {
          "base_uri": "https://localhost:8080/"
        },
        "id": "wY258z1DmN3M",
        "outputId": "94c1458e-4d82-4db2-b2c3-e8de509cba7f"
      },
      "outputs": [
        {
          "output_type": "stream",
          "name": "stdout",
          "text": [
            "Requirement already satisfied: opencv-python in /usr/local/lib/python3.10/dist-packages (4.10.0.84)\n",
            "Requirement already satisfied: numpy>=1.21.2 in /usr/local/lib/python3.10/dist-packages (from opencv-python) (1.26.4)\n",
            "Total frames extraites: 341\n",
            "238 frames enregistrées dans 'train/scissors'.\n",
            "52 frames enregistrées dans 'test/scissors'.\n",
            "51 frames enregistrées dans 'val/scissors'.\n"
          ]
        }
      ],
      "source": [
        "!pip install opencv-python\n",
        "import cv2\n",
        "import os\n",
        "\n",
        "# Chemin de la vidéo\n",
        "video_path = \"sample_data/scissors.mp4\"\n",
        "# Dossiers de sortie pour les frames\n",
        "train_folder = \"train/scissors\"\n",
        "test_folder = \"test/scissors\"\n",
        "val_folder = \"val/scissors\"\n",
        "os.makedirs(train_folder, exist_ok=True)\n",
        "os.makedirs(test_folder, exist_ok=True)\n",
        "os.makedirs(val_folder, exist_ok=True)\n",
        "\n",
        "# Ouvrir la vidéo\n",
        "cap = cv2.VideoCapture(video_path)\n",
        "frames = []\n",
        "frame_count = 0\n",
        "\n",
        "# Lire chaque frame de la vidéo\n",
        "while cap.isOpened():\n",
        "    ret, frame = cap.read()\n",
        "    if not ret:\n",
        "        break\n",
        "    frames.append(frame)\n",
        "    frame_count += 1\n",
        "\n",
        "cap.release()\n",
        "print(f\"Total frames extraites: {frame_count}\")\n",
        "\n",
        "# Mélanger les frames et diviser en train/test (70/30)\n",
        "import random\n",
        "random.shuffle(frames)\n",
        "total_frames = len(frames)\n",
        "train_end = int(total_frames * 0.7)\n",
        "val_end = int(total_frames * 0.85)\n",
        "\n",
        "train_frames = frames[:train_end]\n",
        "val_frames = frames[train_end:val_end]\n",
        "test_frames = frames[val_end:]\n",
        "\n",
        "# Sauvegarder les frames d'entraînement\n",
        "for i, frame in enumerate(train_frames):\n",
        "    cv2.imwrite(f\"{train_folder}/frame_{i}.jpg\", frame)\n",
        "\n",
        "# Sauvegarder les frames de test\n",
        "for i, frame in enumerate(test_frames):\n",
        "    cv2.imwrite(f\"{test_folder}/frame_{i}.jpg\", frame)\n",
        "\n",
        "for i, frame in enumerate(val_frames):\n",
        "    cv2.imwrite(f\"{val_folder}/frame_{i}.jpg\", frame)\n",
        "\n",
        "print(f\"{len(train_frames)} frames enregistrées dans '{train_folder}'.\")\n",
        "print(f\"{len(test_frames)} frames enregistrées dans '{test_folder}'.\")\n",
        "print(f\"{len(val_frames)} frames enregistrées dans '{val_folder}'.\")"
      ]
    },
    {
      "cell_type": "code",
      "source": [
        "!pip install opencv-python\n",
        "import cv2\n",
        "import os\n",
        "\n",
        "# Chemin de la vidéo\n",
        "video_path = \"sample_data/rock.mp4\"\n",
        "# Dossiers de sortie pour les frames\n",
        "train_folder = \"train/rock\"\n",
        "test_folder = \"test/rock\"\n",
        "val_folder = \"val/rock\"\n",
        "os.makedirs(train_folder, exist_ok=True)\n",
        "os.makedirs(test_folder, exist_ok=True)\n",
        "os.makedirs(val_folder, exist_ok=True)\n",
        "\n",
        "# Ouvrir la vidéo\n",
        "cap = cv2.VideoCapture(video_path)\n",
        "frames = []\n",
        "frame_count = 0\n",
        "\n",
        "# Lire chaque frame de la vidéo\n",
        "while cap.isOpened():\n",
        "    ret, frame = cap.read()\n",
        "    if not ret:\n",
        "        break\n",
        "    frames.append(frame)\n",
        "    frame_count += 1\n",
        "\n",
        "cap.release()\n",
        "print(f\"Total frames extraites: {frame_count}\")\n",
        "\n",
        "# Mélanger les frames et diviser en train/test (70/30)\n",
        "import random\n",
        "random.shuffle(frames)\n",
        "total_frames = len(frames)\n",
        "train_end = int(total_frames * 0.7)\n",
        "val_end = int(total_frames * 0.85)\n",
        "\n",
        "train_frames = frames[:train_end]\n",
        "val_frames = frames[train_end:val_end]\n",
        "test_frames = frames[val_end:]\n",
        "\n",
        "# Sauvegarder les frames d'entraînement\n",
        "for i, frame in enumerate(train_frames):\n",
        "    cv2.imwrite(f\"{train_folder}/frame_{i}.jpg\", frame)\n",
        "\n",
        "# Sauvegarder les frames de test\n",
        "for i, frame in enumerate(test_frames):\n",
        "    cv2.imwrite(f\"{test_folder}/frame_{i}.jpg\", frame)\n",
        "\n",
        "for i, frame in enumerate(val_frames):\n",
        "    cv2.imwrite(f\"{val_folder}/frame_{i}.jpg\", frame)\n",
        "\n",
        "print(f\"{len(train_frames)} frames enregistrées dans '{train_folder}'.\")\n",
        "print(f\"{len(test_frames)} frames enregistrées dans '{test_folder}'.\")\n",
        "print(f\"{len(val_frames)} frames enregistrées dans '{val_folder}'.\")"
      ],
      "metadata": {
        "id": "WVQgpi1uh9Vr",
        "colab": {
          "base_uri": "https://localhost:8080/"
        },
        "outputId": "8c08fe68-de89-447d-f870-e4f54b774b19"
      },
      "execution_count": 15,
      "outputs": [
        {
          "output_type": "stream",
          "name": "stdout",
          "text": [
            "Requirement already satisfied: opencv-python in /usr/local/lib/python3.10/dist-packages (4.10.0.84)\n",
            "Requirement already satisfied: numpy>=1.21.2 in /usr/local/lib/python3.10/dist-packages (from opencv-python) (1.26.4)\n",
            "Total frames extraites: 282\n",
            "197 frames enregistrées dans 'train/rock'.\n",
            "43 frames enregistrées dans 'test/rock'.\n",
            "42 frames enregistrées dans 'val/rock'.\n"
          ]
        }
      ]
    },
    {
      "cell_type": "code",
      "execution_count": 16,
      "metadata": {
        "colab": {
          "base_uri": "https://localhost:8080/"
        },
        "id": "1yADv0PmkXTa",
        "outputId": "8cad4dcd-d2fb-4f27-c827-bc1dabe57961"
      },
      "outputs": [
        {
          "output_type": "stream",
          "name": "stdout",
          "text": [
            "Requirement already satisfied: opencv-python in /usr/local/lib/python3.10/dist-packages (4.10.0.84)\n",
            "Requirement already satisfied: numpy>=1.21.2 in /usr/local/lib/python3.10/dist-packages (from opencv-python) (1.26.4)\n",
            "Total frames extraites: 342\n",
            "239 frames enregistrées dans 'train/paper'.\n",
            "52 frames enregistrées dans 'test/paper'.\n",
            "51 frames enregistrées dans 'val/paper'.\n"
          ]
        }
      ],
      "source": [
        "!pip install opencv-python\n",
        "import cv2\n",
        "import os\n",
        "\n",
        "# Chemin de la vidéo\n",
        "video_path = \"sample_data/paper.mp4\"\n",
        "# Dossiers de sortie pour les frames\n",
        "train_folder = \"train/paper\"\n",
        "test_folder = \"test/paper\"\n",
        "val_folder = \"val/paper\"\n",
        "os.makedirs(train_folder, exist_ok=True)\n",
        "os.makedirs(test_folder, exist_ok=True)\n",
        "os.makedirs(val_folder, exist_ok=True)\n",
        "\n",
        "# Ouvrir la vidéo\n",
        "cap = cv2.VideoCapture(video_path)\n",
        "frames = []\n",
        "frame_count = 0\n",
        "\n",
        "# Lire chaque frame de la vidéo\n",
        "while cap.isOpened():\n",
        "    ret, frame = cap.read()\n",
        "    if not ret:\n",
        "        break\n",
        "    frames.append(frame)\n",
        "    frame_count += 1\n",
        "\n",
        "cap.release()\n",
        "print(f\"Total frames extraites: {frame_count}\")\n",
        "\n",
        "# Mélanger les frames et diviser en train/test (70/30)\n",
        "import random\n",
        "random.shuffle(frames)\n",
        "\n",
        "total_frames = len(frames)\n",
        "train_end = int(total_frames * 0.7)\n",
        "val_end = int(total_frames * 0.85)\n",
        "\n",
        "train_frames = frames[:train_end]\n",
        "val_frames = frames[train_end:val_end]\n",
        "test_frames = frames[val_end:]\n",
        "\n",
        "# Sauvegarder les frames d'entraînement\n",
        "for i, frame in enumerate(train_frames):\n",
        "    cv2.imwrite(f\"{train_folder}/frame_{i}.jpg\", frame)\n",
        "\n",
        "# Sauvegarder les frames de test\n",
        "for i, frame in enumerate(test_frames):\n",
        "    cv2.imwrite(f\"{test_folder}/frame_{i}.jpg\", frame)\n",
        "\n",
        "for i, frame in enumerate(val_frames):\n",
        "    cv2.imwrite(f\"{val_folder}/frame_{i}.jpg\", frame)\n",
        "\n",
        "print(f\"{len(train_frames)} frames enregistrées dans '{train_folder}'.\")\n",
        "print(f\"{len(test_frames)} frames enregistrées dans '{test_folder}'.\")\n",
        "print(f\"{len(val_frames)} frames enregistrées dans '{val_folder}'.\")"
      ]
    },
    {
      "cell_type": "code",
      "source": [
        "import shutil\n",
        "\n",
        "# Compresser le dossier en .zip\n",
        "shutil.make_archive('train', 'zip', 'train')\n",
        "shutil.make_archive('test', 'zip', 'test')\n",
        "shutil.make_archive('val', 'zip', 'val')\n",
        "\n",
        "# Télécharger le fichier compressé\n",
        "from google.colab import files\n",
        "files.download('train.zip')\n",
        "files.download('test.zip')\n",
        "files.download('val.zip')"
      ],
      "metadata": {
        "colab": {
          "base_uri": "https://localhost:8080/",
          "height": 69
        },
        "id": "oss-TaGnQo3c",
        "outputId": "1df14093-7fa4-4952-9211-2336c8b66195"
      },
      "execution_count": 18,
      "outputs": [
        {
          "output_type": "display_data",
          "data": {
            "text/plain": [
              "<IPython.core.display.Javascript object>"
            ],
            "application/javascript": [
              "\n",
              "    async function download(id, filename, size) {\n",
              "      if (!google.colab.kernel.accessAllowed) {\n",
              "        return;\n",
              "      }\n",
              "      const div = document.createElement('div');\n",
              "      const label = document.createElement('label');\n",
              "      label.textContent = `Downloading \"${filename}\": `;\n",
              "      div.appendChild(label);\n",
              "      const progress = document.createElement('progress');\n",
              "      progress.max = size;\n",
              "      div.appendChild(progress);\n",
              "      document.body.appendChild(div);\n",
              "\n",
              "      const buffers = [];\n",
              "      let downloaded = 0;\n",
              "\n",
              "      const channel = await google.colab.kernel.comms.open(id);\n",
              "      // Send a message to notify the kernel that we're ready.\n",
              "      channel.send({})\n",
              "\n",
              "      for await (const message of channel.messages) {\n",
              "        // Send a message to notify the kernel that we're ready.\n",
              "        channel.send({})\n",
              "        if (message.buffers) {\n",
              "          for (const buffer of message.buffers) {\n",
              "            buffers.push(buffer);\n",
              "            downloaded += buffer.byteLength;\n",
              "            progress.value = downloaded;\n",
              "          }\n",
              "        }\n",
              "      }\n",
              "      const blob = new Blob(buffers, {type: 'application/binary'});\n",
              "      const a = document.createElement('a');\n",
              "      a.href = window.URL.createObjectURL(blob);\n",
              "      a.download = filename;\n",
              "      div.appendChild(a);\n",
              "      a.click();\n",
              "      div.remove();\n",
              "    }\n",
              "  "
            ]
          },
          "metadata": {}
        },
        {
          "output_type": "display_data",
          "data": {
            "text/plain": [
              "<IPython.core.display.Javascript object>"
            ],
            "application/javascript": [
              "download(\"download_bc8ae1fc-c175-474b-91ae-34b6c71d1287\", \"train.zip\", 32601296)"
            ]
          },
          "metadata": {}
        },
        {
          "output_type": "display_data",
          "data": {
            "text/plain": [
              "<IPython.core.display.Javascript object>"
            ],
            "application/javascript": [
              "\n",
              "    async function download(id, filename, size) {\n",
              "      if (!google.colab.kernel.accessAllowed) {\n",
              "        return;\n",
              "      }\n",
              "      const div = document.createElement('div');\n",
              "      const label = document.createElement('label');\n",
              "      label.textContent = `Downloading \"${filename}\": `;\n",
              "      div.appendChild(label);\n",
              "      const progress = document.createElement('progress');\n",
              "      progress.max = size;\n",
              "      div.appendChild(progress);\n",
              "      document.body.appendChild(div);\n",
              "\n",
              "      const buffers = [];\n",
              "      let downloaded = 0;\n",
              "\n",
              "      const channel = await google.colab.kernel.comms.open(id);\n",
              "      // Send a message to notify the kernel that we're ready.\n",
              "      channel.send({})\n",
              "\n",
              "      for await (const message of channel.messages) {\n",
              "        // Send a message to notify the kernel that we're ready.\n",
              "        channel.send({})\n",
              "        if (message.buffers) {\n",
              "          for (const buffer of message.buffers) {\n",
              "            buffers.push(buffer);\n",
              "            downloaded += buffer.byteLength;\n",
              "            progress.value = downloaded;\n",
              "          }\n",
              "        }\n",
              "      }\n",
              "      const blob = new Blob(buffers, {type: 'application/binary'});\n",
              "      const a = document.createElement('a');\n",
              "      a.href = window.URL.createObjectURL(blob);\n",
              "      a.download = filename;\n",
              "      div.appendChild(a);\n",
              "      a.click();\n",
              "      div.remove();\n",
              "    }\n",
              "  "
            ]
          },
          "metadata": {}
        },
        {
          "output_type": "display_data",
          "data": {
            "text/plain": [
              "<IPython.core.display.Javascript object>"
            ],
            "application/javascript": [
              "download(\"download_10f3bb1c-a3c4-4b8e-99c3-515008f1f03a\", \"test.zip\", 7012832)"
            ]
          },
          "metadata": {}
        },
        {
          "output_type": "display_data",
          "data": {
            "text/plain": [
              "<IPython.core.display.Javascript object>"
            ],
            "application/javascript": [
              "\n",
              "    async function download(id, filename, size) {\n",
              "      if (!google.colab.kernel.accessAllowed) {\n",
              "        return;\n",
              "      }\n",
              "      const div = document.createElement('div');\n",
              "      const label = document.createElement('label');\n",
              "      label.textContent = `Downloading \"${filename}\": `;\n",
              "      div.appendChild(label);\n",
              "      const progress = document.createElement('progress');\n",
              "      progress.max = size;\n",
              "      div.appendChild(progress);\n",
              "      document.body.appendChild(div);\n",
              "\n",
              "      const buffers = [];\n",
              "      let downloaded = 0;\n",
              "\n",
              "      const channel = await google.colab.kernel.comms.open(id);\n",
              "      // Send a message to notify the kernel that we're ready.\n",
              "      channel.send({})\n",
              "\n",
              "      for await (const message of channel.messages) {\n",
              "        // Send a message to notify the kernel that we're ready.\n",
              "        channel.send({})\n",
              "        if (message.buffers) {\n",
              "          for (const buffer of message.buffers) {\n",
              "            buffers.push(buffer);\n",
              "            downloaded += buffer.byteLength;\n",
              "            progress.value = downloaded;\n",
              "          }\n",
              "        }\n",
              "      }\n",
              "      const blob = new Blob(buffers, {type: 'application/binary'});\n",
              "      const a = document.createElement('a');\n",
              "      a.href = window.URL.createObjectURL(blob);\n",
              "      a.download = filename;\n",
              "      div.appendChild(a);\n",
              "      a.click();\n",
              "      div.remove();\n",
              "    }\n",
              "  "
            ]
          },
          "metadata": {}
        },
        {
          "output_type": "display_data",
          "data": {
            "text/plain": [
              "<IPython.core.display.Javascript object>"
            ],
            "application/javascript": [
              "download(\"download_fed50f70-f5ec-40bc-866a-833f5e7179c5\", \"val.zip\", 6890209)"
            ]
          },
          "metadata": {}
        }
      ]
    },
    {
      "cell_type": "markdown",
      "metadata": {
        "id": "JxUlT4znOGSS"
      },
      "source": [
        "#Where to find pretrained model?"
      ]
    },
    {
      "cell_type": "markdown",
      "metadata": {
        "id": "UAu9R6bONJ4I"
      },
      "source": [
        "https://huggingface.co/models\n",
        "\n",
        "https://pytorch.org/vision/stable/models.html#classification\n",
        "\n",
        "https://tfhub.dev/"
      ]
    },
    {
      "cell_type": "markdown",
      "metadata": {
        "id": "U6NUDrKpArh3"
      },
      "source": [
        "#Load a pretrained model from huggingface 🤗"
      ]
    },
    {
      "cell_type": "code",
      "execution_count": null,
      "metadata": {
        "id": "QN16LrMv7ghJ"
      },
      "outputs": [],
      "source": [
        "#!pip install transformers\n",
        "from transformers import AutoFeatureExtractor, ResNetForImageClassification, ResNetModel\n"
      ]
    },
    {
      "cell_type": "markdown",
      "metadata": {
        "id": "H2ibH3A3PPc4"
      },
      "source": [
        "![ResNET18](https://www.researchgate.net/publication/342915846/figure/fig2/AS:913044574068738@1594698198420/Structure-of-the-standard-ResNet18-network-color-and-shape-networks-Every-layer.ppm)\n"
      ]
    },
    {
      "cell_type": "code",
      "execution_count": null,
      "metadata": {
        "colab": {
          "base_uri": "https://localhost:8080/"
        },
        "id": "4ScHKco87WUu",
        "outputId": "c94083fa-0e3f-4761-941e-b3b45c00c7d9"
      },
      "outputs": [
        {
          "name": "stderr",
          "output_type": "stream",
          "text": [
            "/usr/local/lib/python3.10/dist-packages/transformers/models/convnext/feature_extraction_convnext.py:28: FutureWarning: The class ConvNextFeatureExtractor is deprecated and will be removed in version 5 of Transformers. Please use ConvNextImageProcessor instead.\n",
            "  warnings.warn(\n"
          ]
        },
        {
          "name": "stdout",
          "output_type": "stream",
          "text": [
            "sock\n"
          ]
        }
      ],
      "source": [
        "image = zeros_list[-1]\n",
        "\n",
        "image_processor = AutoFeatureExtractor.from_pretrained(\"microsoft/resnet-18\")\n",
        "# \"microsoft/resnet-18\">\"google/efficientnet-b7\"\n",
        "model = ResNetForImageClassification.from_pretrained(\"microsoft/resnet-18\")\n",
        "# model = ResNetModel.from_pretrained(\"microsoft/resnet-18\")\n",
        "\n",
        "inputs = image_processor(image, return_tensors=\"pt\")\n",
        "\n",
        "with torch.no_grad():\n",
        "    logits = model(**inputs).logits\n",
        "\n",
        "# model predicts one of the 1000 ImageNet classes\n",
        "predicted_label = logits.argmax(-1).item()\n",
        "print(model.config.id2label[predicted_label])"
      ]
    },
    {
      "cell_type": "markdown",
      "metadata": {
        "id": "eH_cvgr5BXmk"
      },
      "source": [
        "##Fine tune ResNet for two classes"
      ]
    },
    {
      "cell_type": "markdown",
      "metadata": {
        "id": "fDUqgQhSEK2l"
      },
      "source": [
        "###Create Dataloader"
      ]
    },
    {
      "cell_type": "code",
      "execution_count": null,
      "metadata": {
        "colab": {
          "base_uri": "https://localhost:8080/"
        },
        "id": "1aocRJAZEQQx",
        "outputId": "6edf5395-72da-43e9-b8bb-390b714c2005"
      },
      "outputs": [
        {
          "name": "stdout",
          "output_type": "stream",
          "text": [
            "tensor_x.shape: torch.Size([696, 360, 640, 3]) , tensor_y.shape: torch.Size([696])\n"
          ]
        }
      ],
      "source": [
        "from torch.utils.data import TensorDataset, DataLoader\n",
        "# to have a balanced dataset\n",
        "num_each_class_sample=min(len(zeros_list),len(ones_list))\n",
        "\n",
        "# zeros_data=torch.Tensor(zeros_list[:num_each_class_sample])\n",
        "# ones_data=torch.Tensor(ones_list[:num_each_class_sample])\n",
        "\n",
        "tensor_x = torch.Tensor(np.append(zeros_list[:num_each_class_sample],\n",
        "                                  ones_list[:num_each_class_sample],\n",
        "                                  axis=0)).to(device) # transform to torch tensor\n",
        "tensor_y = torch.Tensor(np.append(np.ones(num_each_class_sample),np.zeros(num_each_class_sample))).to(device)\n",
        "# tensor_y = torch.Tensor(np.append([[0,1] for i in range(len(ones_data))],[[1,0] for i in range(len(zeros_data))]))\n",
        "print(\"tensor_x.shape:\",tensor_x.shape,\", tensor_y.shape:\",tensor_y.shape)\n",
        "\n",
        "my_dataset = TensorDataset(tensor_x,tensor_y) # create your datset\n",
        "my_dataloader = DataLoader(my_dataset,batch_size=10, shuffle=True) # create your dataloader"
      ]
    },
    {
      "cell_type": "markdown",
      "metadata": {
        "id": "Htwk7eQIGYTW"
      },
      "source": [
        "###Training function"
      ]
    },
    {
      "cell_type": "code",
      "execution_count": null,
      "metadata": {
        "id": "R7e2GLq4Gchl"
      },
      "outputs": [],
      "source": [
        "import time\n",
        "\n",
        "def train(net, train_dataloader, criterion, optimizer, scheduler=None, epochs=10, device='cpu', checkpoint_epochs=2):\n",
        "    start = time.time()\n",
        "    print(f'Training for {epochs} epochs on {device}')\n",
        "\n",
        "    for epoch in range(1,epochs+1):\n",
        "        print(f\"Epoch {epoch}/{epochs}\")\n",
        "\n",
        "        net.train()  # put network in train mode for Dropout and Batch Normalization\n",
        "        train_loss = torch.tensor(0., device=device)  # loss and accuracy tensors are on the GPU to avoid data transfers\n",
        "        train_accuracy = torch.tensor(0., device=device)\n",
        "        for X, y in train_dataloader:\n",
        "            X = X.to(device)\n",
        "            y = y.type(torch.LongTensor).to(device)\n",
        "            preds = net(X)\n",
        "            loss = criterion(preds, y)\n",
        "\n",
        "            optimizer.zero_grad()\n",
        "            loss.backward()\n",
        "            optimizer.step()\n",
        "\n",
        "            with torch.no_grad():\n",
        "                train_loss += loss * train_dataloader.batch_size\n",
        "                train_accuracy += (torch.argmax(preds, dim=1) == y).sum()\n",
        "\n",
        "        if scheduler is not None:\n",
        "            scheduler.step()\n",
        "\n",
        "        print(f'Training loss: {train_loss/len(train_dataloader.dataset):.2f}')\n",
        "        print(f'Training accuracy: {100*train_accuracy/len(train_dataloader.dataset):.2f}')\n",
        "\n",
        "\n",
        "        if epoch%checkpoint_epochs==0:\n",
        "            torch.save({\n",
        "                'epoch': epoch,\n",
        "                'state_dict': net.state_dict(),\n",
        "                'optimizer': optimizer.state_dict(),\n",
        "            }, './checkpoint.pth.tar')\n",
        "\n",
        "        print()\n",
        "\n",
        "    end = time.time()\n",
        "    print(f'Total training time: {end-start:.1f} seconds')\n",
        "    return net"
      ]
    },
    {
      "cell_type": "code",
      "execution_count": null,
      "metadata": {
        "id": "akbVAfRb8eUd"
      },
      "outputs": [],
      "source": [
        "from transformers import ResNetModel\n",
        "import torch\n",
        "\n",
        "# model definition\n",
        "class Classifier_model(torch.nn.Module):\n",
        "    # define model elements\n",
        "    def __init__(self):\n",
        "        super(Classifier_model, self).__init__()\n",
        "        self.device = 'cuda' if torch.cuda.is_available() else 'cpu'\n",
        "        self.image_processor = AutoFeatureExtractor.from_pretrained(\"microsoft/resnet-18\",device=self.device)\n",
        "        self.pre_trained_model = ResNetModel.from_pretrained(\"microsoft/resnet-18\")\n",
        "        resnet18_output_size=25088\n",
        "        self.fc = torch.nn.Linear(resnet18_output_size, 2)\n",
        "        self.activation = torch.nn.ReLU()\n",
        "\n",
        "    # forward propagate input\n",
        "    def forward(self, X):\n",
        "        X = self.image_processor(X, return_tensors=\"pt\").to(self.device)\n",
        "        # print(X.pixel_value.is_cuda)\n",
        "        X = self.pre_trained_model(**X).last_hidden_state.flatten(start_dim=1)\n",
        "        X = self.activation(X)\n",
        "        X = self.fc(X)\n",
        "        return X.softmax(dim=1)"
      ]
    },
    {
      "cell_type": "code",
      "execution_count": null,
      "metadata": {
        "colab": {
          "base_uri": "https://localhost:8080/"
        },
        "id": "MmjyR7PuG7M4",
        "outputId": "4ccb4729-bf0f-43e9-a563-68fe1ea28938"
      },
      "outputs": [
        {
          "name": "stdout",
          "output_type": "stream",
          "text": [
            "Training for 10 epochs on cuda\n",
            "Epoch 1/10\n",
            "Training loss: 0.39\n",
            "Training accuracy: 95.98\n",
            "\n",
            "Epoch 2/10\n",
            "Training loss: 0.33\n",
            "Training accuracy: 100.00\n",
            "\n",
            "Epoch 3/10\n",
            "Training loss: 0.32\n",
            "Training accuracy: 100.00\n",
            "\n",
            "Epoch 4/10\n",
            "Training loss: 0.32\n",
            "Training accuracy: 100.00\n",
            "\n",
            "Epoch 5/10\n",
            "Training loss: 0.32\n",
            "Training accuracy: 100.00\n",
            "\n",
            "Epoch 6/10\n",
            "Training loss: 0.32\n",
            "Training accuracy: 100.00\n",
            "\n",
            "Epoch 7/10\n",
            "Training loss: 0.32\n",
            "Training accuracy: 100.00\n",
            "\n",
            "Epoch 8/10\n",
            "Training loss: 0.32\n",
            "Training accuracy: 100.00\n",
            "\n",
            "Epoch 9/10\n",
            "Training loss: 0.32\n",
            "Training accuracy: 100.00\n",
            "\n",
            "Epoch 10/10\n",
            "Training loss: 0.32\n",
            "Training accuracy: 100.00\n",
            "\n",
            "Total training time: 179.3 seconds\n"
          ]
        }
      ],
      "source": [
        "lr, weight_decay, epochs = 1e-5, 5e-4, 10\n",
        "\n",
        "net = Classifier_model().to(device)\n",
        "\n",
        "# Standard CrossEntropy Loss for multi-class classification problems\n",
        "loss = torch.nn.CrossEntropyLoss()\n",
        "\n",
        "optimizer = torch.optim.Adam(net.fc.parameters(),lr=lr, weight_decay=weight_decay)\n",
        "\n",
        "net = train(net, my_dataloader, loss, optimizer, None, epochs, device)"
      ]
    },
    {
      "cell_type": "code",
      "execution_count": null,
      "metadata": {
        "colab": {
          "base_uri": "https://localhost:8080/",
          "height": 34
        },
        "id": "XiPCzo3BDPdn",
        "outputId": "1355ce27-2574-4f88-8ca1-2e010a2c0230"
      },
      "outputs": [
        {
          "data": {
            "application/javascript": "\n    async function recordVideo() {\n      const options = { mimeType: \"video/webm; codecs=vp9\" };\n      const div = document.createElement('div');\n      const capture = document.createElement('button');\n      const stopCapture = document.createElement(\"button\");\n\n      capture.textContent = \"Start Recording\";\n      capture.style.background = \"orange\";\n      capture.style.color = \"white\";\n\n      stopCapture.textContent = \"Stop Recording\";\n      stopCapture.style.background = \"red\";\n      stopCapture.style.color = \"white\";\n      div.appendChild(capture);\n\n      const video = document.createElement('video');\n      const recordingVid = document.createElement(\"video\");\n      video.style.display = 'block';\n\n      const stream = await navigator.mediaDevices.getUserMedia({audio:true, video: true});\n\n      let recorder = new MediaRecorder(stream, options);\n      document.body.appendChild(div);\n      div.appendChild(video);\n\n      video.srcObject = stream;\n      video.muted = true;\n\n      await video.play();\n\n      google.colab.output.setIframeHeight(document.documentElement.scrollHeight, true);\n\n      await new Promise((resolve) => {\n        capture.onclick = resolve;\n      });\n      recorder.start();\n      capture.replaceWith(stopCapture);\n\n      await new Promise((resolve) => stopCapture.onclick = resolve);\n      recorder.stop();\n      let recData = await new Promise((resolve) => recorder.ondataavailable = resolve);\n      let arrBuff = await recData.data.arrayBuffer();\n\n      // stop the stream and remove the video element\n      stream.getVideoTracks()[0].stop();\n      div.remove();\n\n      let binaryString = \"\";\n      let bytes = new Uint8Array(arrBuff);\n      bytes.forEach((byte) => {\n        binaryString += String.fromCharCode(byte);\n      })\n    return btoa(binaryString);\n    }\n  ",
            "text/plain": [
              "<IPython.core.display.Javascript object>"
            ]
          },
          "metadata": {},
          "output_type": "display_data"
        },
        {
          "name": "stdout",
          "output_type": "stream",
          "text": [
            "Finished recording video at:sample_data//Test.mp4\n"
          ]
        }
      ],
      "source": [
        "video_path = \"sample_data//Test.mp4\"\n",
        "record_video(video_path)"
      ]
    },
    {
      "cell_type": "code",
      "execution_count": null,
      "metadata": {
        "colab": {
          "base_uri": "https://localhost:8080/"
        },
        "id": "F8rChz-sCrv5",
        "outputId": "73034134-87d5-4c2a-9249-f646e77ea315"
      },
      "outputs": [
        {
          "name": "stdout",
          "output_type": "stream",
          "text": [
            "The recorded video as the test has 215 frames.\n"
          ]
        },
        {
          "data": {
            "text/plain": [
              "tensor([1, 1, 1, 1, 1, 1, 1, 1, 1, 1, 1, 1, 1, 1, 1, 1, 1, 1, 1, 1, 1, 1, 1, 1,\n",
              "        1, 1, 1, 1, 1, 1, 1, 1, 1, 1, 1, 1, 1, 1, 1, 1, 1, 1, 1, 1, 1, 1, 1, 1,\n",
              "        1, 1, 1, 1, 1, 1, 1, 1, 1, 1, 1, 1, 1, 1, 1, 1, 1, 1, 1, 1, 1, 1, 1, 1,\n",
              "        1, 1, 1, 1, 1, 1, 0, 0, 0, 0, 0, 0, 0, 0, 0, 0, 0, 0, 0, 0, 0, 0, 0, 0,\n",
              "        0, 0, 0, 0, 0, 0, 0, 0, 0, 0, 0, 0, 0, 0, 0, 0, 0, 0, 0, 0, 0, 0, 0, 0,\n",
              "        0, 0, 0, 0, 0, 0, 0, 0, 0, 0, 0, 0, 0, 0, 0, 0, 0, 0, 0, 0, 0, 0, 0, 0,\n",
              "        0, 0, 0, 0, 0, 0, 0, 0, 0, 0, 0, 0, 0, 0, 0, 0, 0, 0, 0, 0, 0, 0, 0, 0,\n",
              "        0, 0, 0, 0, 0, 0, 0, 0, 0, 0, 0, 0, 0, 0, 0, 0, 0, 0, 0, 0, 0, 0, 0, 0,\n",
              "        0, 0, 0, 0, 0, 0, 0, 0, 0, 0, 0, 0, 0, 0, 0, 0, 0, 0, 0, 0, 0, 0, 0],\n",
              "       device='cuda:0')"
            ]
          },
          "execution_count": 80,
          "metadata": {},
          "output_type": "execute_result"
        }
      ],
      "source": [
        "device = 'cuda' if torch.cuda.is_available() else 'cpu'\n",
        "net = Classifier_model().to(device)\n",
        "if torch.cuda.is_available():\n",
        "  net.load_state_dict(torch.load(\"checkpoint.pth.tar\")['state_dict'])\n",
        "else:\n",
        "  net.load_state_dict(torch.load(\"checkpoint.pth.tar\",\n",
        "                                map_location=torch.device('cpu'))['state_dict'])\n",
        "net.eval()\n",
        "\n",
        "test_list=mp4_to_frames(\"sample_data//Test.mp4\")\n",
        "print(\"The recorded video as the test has\",len(test_list),\"frames.\")\n",
        "test_data=torch.Tensor(test_list).to(device)\n",
        "output=[]\n",
        "preds = net(test_data)\n",
        "output=torch.argmax(preds, dim=1)\n",
        "output"
      ]
    },
    {
      "cell_type": "markdown",
      "metadata": {
        "id": "awW36tU_LIkw"
      },
      "source": [
        "#Looking at test video's frames:\n",
        "\n",
        "https://ezgif.com/video-to-jpg/"
      ]
    },
    {
      "cell_type": "code",
      "execution_count": null,
      "metadata": {
        "colab": {
          "base_uri": "https://localhost:8080/",
          "height": 697
        },
        "id": "sJXtDF0p0gds",
        "outputId": "a520315e-f875-4b92-e5a1-59ee6cda8b5c"
      },
      "outputs": [
        {
          "data": {
            "image/png": "[encoded data removed]",
            "text/plain": [
              "<Figure size 200x200 with 1 Axes>"
            ]
          },
          "metadata": {},
          "output_type": "display_data"
        },
        {
          "data": {
            "image/png": "[encoded data removed]",
            "text/plain": [
              "<Figure size 200x200 with 1 Axes>"
            ]
          },
          "metadata": {},
          "output_type": "display_data"
        },
        {
          "data": {
            "image/png": "[encoded data removed]",
            "text/plain": [
              "<Figure size 200x200 with 1 Axes>"
            ]
          },
          "metadata": {},
          "output_type": "display_data"
        },
        {
          "data": {
            "image/png": "[encoded data removed]",
            "text/plain": [
              "<Figure size 200x200 with 1 Axes>"
            ]
          },
          "metadata": {},
          "output_type": "display_data"
        },
        {
          "data": {
            "image/png": "[encoded data removed]",
            "text/plain": [
              "<Figure size 200x200 with 1 Axes>"
            ]
          },
          "metadata": {},
          "output_type": "display_data"
        }
      ],
      "source": [
        "test_list=mp4_to_frames(\"sample_data//Test.mp4\")\n",
        "i=0\n",
        "for img in test_list:\n",
        "  if i%50==0:\n",
        "    plt.figure(int(i/50),figsize=(2, 2))\n",
        "    plt.imshow(test_list[i])\n",
        "  i+=1"
      ]
    },
    {
      "cell_type": "markdown",
      "metadata": {
        "id": "s8909pIzQlbJ"
      },
      "source": [
        "#Annotation interface"
      ]
    },
    {
      "cell_type": "code",
      "execution_count": null,
      "metadata": {
        "colab": {
          "base_uri": "https://localhost:8080/",
          "height": 333
        },
        "id": "XoJd0raY_K3k",
        "outputId": "a5e2ad9a-2a49-471a-8e39-d7cc9a4c3358"
      },
      "outputs": [
        {
          "name": "stdout",
          "output_type": "stream",
          "text": [
            "The recorded video as the test has 323 frames.\n"
          ]
        },
        {
          "data": {
            "text/plain": [
              "<matplotlib.image.AxesImage at 0x7ef0825a8130>"
            ]
          },
          "execution_count": 8,
          "metadata": {},
          "output_type": "execute_result"
        },
        {
          "data": {
            "image/png": "[encoded data removed]",
            "text/plain": [
              "<Figure size 400x400 with 1 Axes>"
            ]
          },
          "metadata": {},
          "output_type": "display_data"
        }
      ],
      "source": [
        "test_list=mp4_to_frames(\"sample_data//Test.mp4\")\n",
        "print(\"The recorded video as the test has\",len(test_list),\"frames.\")\n",
        "frm_indx=np.random.randint(0,len(test_list)-1)\n",
        "frame=test_list[frm_indx]\n",
        "\n",
        "plt.figure(i,figsize=(4, 4))\n",
        "plt.imshow(frame)"
      ]
    },
    {
      "cell_type": "code",
      "execution_count": null,
      "metadata": {
        "colab": {
          "base_uri": "https://localhost:8080/",
          "height": 87
        },
        "id": "F1hZncWfB9Ca",
        "outputId": "b35f8690-d88c-4be7-b94a-fc89434b92ae"
      },
      "outputs": [
        {
          "name": "stdout",
          "output_type": "stream",
          "text": [
            "What is the label of above frame?\n",
            "\n",
            ">1\n"
          ]
        },
        {
          "data": {
            "application/vnd.google.colaboratory.intrinsic+json": {
              "type": "string"
            },
            "text/plain": [
              "'1'"
            ]
          },
          "execution_count": 27,
          "metadata": {},
          "output_type": "execute_result"
        }
      ],
      "source": [
        "label=str(input(\"What is the label of above frame?\\n\\n>\"))\n",
        "print(\"You have annotated above frame with label of \",label)"
      ]
    },
    {
      "cell_type": "code",
      "execution_count": null,
      "metadata": {
        "id": "1IoNHZg_1c3l"
      },
      "outputs": [],
      "source": [
        "# Dictionary representing the morse code chart\n",
        "# MORSE_CODE_DICT = { 'A':'01', 'B':'1000','C':'1010', 'D':'100', 'E':'0',\n",
        "#                     'F':'0010', 'G':'110', 'H':'0000','I':'00', 'J':'0111', 'K':'101',\n",
        "#                     'L':'0100', 'M':'11', 'N':'10','O':'111', 'P':'0110', 'Q':'1101',\n",
        "#                     'R':'010', 'S':'000', 'T':'1','U':'001', 'V':'0001', 'W':'011',\n",
        "#                     'X':'1001', 'Y':'1011', 'Z':'1100','1':'01111', '2':'00111', '3':'00011',\n",
        "#                     '4':'00001', '5':'00000', '6':'10000','7':'11000', '8':'11100', '9':'11110',\n",
        "#                     '0':'11111'}\n",
        "\n"
      ]
    },
    {
      "cell_type": "markdown",
      "metadata": {
        "id": "xNISxSULHR48"
      },
      "source": [
        "# Chapter 2 : Uncertainty sampling"
      ]
    },
    {
      "cell_type": "code",
      "execution_count": null,
      "metadata": {
        "id": "OFm3wbwm_Uwg"
      },
      "outputs": [],
      "source": [
        "def least_confidence(net,test_data,n):\n",
        "  \"\"\"\n",
        "  Returns the sample index from test_data based on the uncertainty scores\n",
        "  using the least confidence sampling\n",
        "\n",
        "  Keyword arguments:\n",
        "    net       : the trained neural network\n",
        "    test_data : the samples as the input of the net\n",
        "    n         : number of the best candidates based on least confidence\n",
        "\n",
        "  Output:\n",
        "    res.keys(): a list of indexes from input samples (test_data)\n",
        "  \"\"\"\n",
        "  uncertainty_dict={} # as sample_index: uncertainty score\n",
        "  for i in range(len(test_data)):\n",
        "    preds = net(test_data[i]) # preds is a probability distribution of classes\n",
        "    uncertainty_dict[i]=1-np.max(preds[0].cpu().detach().numpy())\n",
        "  res = dict(sorted(uncertainty_dict.items(),\n",
        "                    key = lambda x: x[1], reverse = True)[:n])\n",
        "\n",
        "  return res.keys()"
      ]
    },
    {
      "cell_type": "code",
      "execution_count": null,
      "metadata": {
        "colab": {
          "base_uri": "https://localhost:8080/"
        },
        "id": "qtg-BGHtWVcx",
        "outputId": "b3230e01-54a7-4786-d50b-0437bb7eb3b5"
      },
      "outputs": [
        {
          "data": {
            "text/plain": [
              "dict_keys([104, 105, 103, 244, 245])"
            ]
          },
          "execution_count": 25,
          "metadata": {},
          "output_type": "execute_result"
        }
      ],
      "source": [
        "least_confidence(net,test_data,5)"
      ]
    },
    {
      "cell_type": "code",
      "execution_count": null,
      "metadata": {
        "id": "gIC9b9QAAEWz"
      },
      "outputs": [],
      "source": [
        "def margin_confidence(net,test_data,n):\n",
        "  \"\"\"\n",
        "  Returns the sample index from test_data based on the uncertainty scores\n",
        "  using the margin of confidence sampling\n",
        "\n",
        "  Keyword arguments:\n",
        "    net       : the trained neural network\n",
        "    test_data : the samples as the input of the net\n",
        "    n         : number of the best candidates based on margin of confidence\n",
        "\n",
        "  Output:\n",
        "    res.keys(): a list of indexes from input samples (test_data)\n",
        "  \"\"\"\n",
        "  uncertainty_dict={} # as sample_index: uncertainty score\n",
        "  for i in range(len(test_data)):\n",
        "    preds = net(test_data[i]) # preds is a probability distribution of classes\n",
        "    preds_sorted = np.sort(preds[0].cpu().detach().numpy())\n",
        "    uncertainty_dict[i]=(preds_sorted[0]-preds_sorted[1])\n",
        "  res = dict(sorted(uncertainty_dict.items(),\n",
        "                    key = lambda x: x[1], reverse = True)[:n])\n",
        "\n",
        "  return res.keys()"
      ]
    },
    {
      "cell_type": "code",
      "execution_count": null,
      "metadata": {
        "colab": {
          "base_uri": "https://localhost:8080/"
        },
        "id": "Mc3l4rSSrr19",
        "outputId": "4a8651e6-15e1-4686-c596-e9804e4787fe"
      },
      "outputs": [
        {
          "data": {
            "text/plain": [
              "dict_keys([104, 105, 103, 244, 245])"
            ]
          },
          "execution_count": 35,
          "metadata": {},
          "output_type": "execute_result"
        }
      ],
      "source": [
        "margin_confidence(net,test_data,5)"
      ]
    },
    {
      "cell_type": "code",
      "execution_count": null,
      "metadata": {
        "id": "rolKtfBFVSPi"
      },
      "outputs": [],
      "source": [
        "def ratio_confidence(net,test_data,n):\n",
        "  \"\"\"\n",
        "  Returns the sample index from test_data based on the uncertainty scores\n",
        "  using the ratio of confidence sampling\n",
        "\n",
        "  Keyword arguments:\n",
        "    net       : the trained neural network\n",
        "    test_data : the samples as the input of the net\n",
        "    n         : number of the best candidates based on margin of confidence\n",
        "\n",
        "  Output:\n",
        "    res.keys(): a list of indexes from input samples (test_data)\n",
        "  \"\"\"\n",
        "  uncertainty_dict={} # as sample_index: uncertainty score\n",
        "  for i in range(len(test_data)):\n",
        "    preds = net(test_data[i]) # preds is a probability distribution of classes\n",
        "    preds_sorted = np.sort(preds[0].cpu().detach().numpy())\n",
        "    uncertainty_dict[i]=(preds_sorted[0]/preds_sorted[1])\n",
        "  res = dict(sorted(uncertainty_dict.items(),\n",
        "                    key = lambda x: x[1], reverse = True)[:n])\n",
        "\n",
        "  return res.keys()"
      ]
    },
    {
      "cell_type": "code",
      "execution_count": null,
      "metadata": {
        "id": "Xw55VdPfnehf"
      },
      "outputs": [],
      "source": [
        "from scipy.stats import entropy\n",
        "\n",
        "def entropy_confidence(net,test_data,n):\n",
        "  \"\"\"\n",
        "  Returns the sample index from test_data based on the uncertainty scores\n",
        "  using the entropy of the probablities\n",
        "\n",
        "  Keyword arguments:\n",
        "    net       : the trained neural network\n",
        "    test_data : the samples as the input of the net\n",
        "    n         : number of the best candidates based on margin of confidence\n",
        "\n",
        "  Output:\n",
        "    res.keys(): a list of indexes from input samples (test_data)\n",
        "  \"\"\"\n",
        "  uncertainty_dict={} # as sample_index: uncertainty score\n",
        "  for i in range(len(test_data)):\n",
        "    preds = net(test_data[i]) # preds is a probability distribution of classes\n",
        "    uncertainty_dict[i]=entropy(preds[0].cpu().detach().numpy())\n",
        "  res = dict(sorted(uncertainty_dict.items(),\n",
        "                    key = lambda x: x[1], reverse = True)[:n])\n",
        "\n",
        "  return res.keys()"
      ]
    },
    {
      "cell_type": "code",
      "execution_count": null,
      "metadata": {
        "colab": {
          "base_uri": "https://localhost:8080/"
        },
        "id": "WTdg0wkNpKrM",
        "outputId": "ce737730-3309-4448-a0a4-7018d5c994a0"
      },
      "outputs": [
        {
          "data": {
            "text/plain": [
              "dict_keys([104, 105, 103, 244, 245])"
            ]
          },
          "execution_count": 46,
          "metadata": {},
          "output_type": "execute_result"
        }
      ],
      "source": [
        "entropy_confidence(net,test_data,5)"
      ]
    },
    {
      "cell_type": "code",
      "execution_count": null,
      "metadata": {
        "id": "280M5MppHWbr"
      },
      "outputs": [],
      "source": []
    },
    {
      "cell_type": "markdown",
      "metadata": {
        "id": "SjHgwyRdHW5J"
      },
      "source": [
        "# Chapter 3 : Diversity sampling"
      ]
    },
    {
      "cell_type": "code",
      "execution_count": null,
      "metadata": {
        "id": "X4LlzGb-3qsM"
      },
      "outputs": [],
      "source": [
        "from transformers import ResNetModel\n",
        "import torch\n",
        "\n",
        "# model definition\n",
        "class Classifier_model(torch.nn.Module):\n",
        "    # define model elements\n",
        "    def __init__(self):\n",
        "        super(Classifier_model, self).__init__()\n",
        "        self.device = 'cuda' if torch.cuda.is_available() else 'cpu'\n",
        "        self.image_processor = AutoFeatureExtractor.from_pretrained(\"microsoft/resnet-18\",\n",
        "                                                                    device=self.device)\n",
        "        self.pre_trained_model = ResNetModel.from_pretrained(\"microsoft/resnet-18\")\n",
        "        resnet18_output_size=25088\n",
        "        self.fc = torch.nn.Linear(resnet18_output_size, 2)\n",
        "        self.activation = torch.nn.ReLU()\n",
        "\n",
        "    # forward propagate input\n",
        "    def forward(self, X, return_all_layers=False):\n",
        "        X = self.image_processor(X, return_tensors=\"pt\").to(self.device)\n",
        "        X = self.pre_trained_model(**X).last_hidden_state.flatten(start_dim=1)\n",
        "        X1 = self.activation(X)\n",
        "        X2 = self.fc(X1)\n",
        "        if return_all_layers:\n",
        "          return X2.softmax(dim=1),X2,X1\n",
        "        else:\n",
        "          return X2.softmax(dim=1)\n"
      ]
    },
    {
      "cell_type": "code",
      "execution_count": null,
      "metadata": {
        "id": "UoR2F0QMGlXu"
      },
      "outputs": [],
      "source": [
        "from numpy.linalg import norm as euclidean_dis\n",
        "def get_model_outliers(net,training_data,test_data,n):\n",
        "  \"\"\"\n",
        "  Returns the sample index from test_data based on the uncertainty scores\n",
        "  using the model-based outliers\n",
        "\n",
        "  Keyword arguments:\n",
        "    net           : the trained neural network\n",
        "    training_data : the unlabeled samples as the input of the net\n",
        "    test_data     : the training samples as the input of the net\n",
        "    n             : number of the best candidates based on margin of confidence\n",
        "\n",
        "  Output:\n",
        "    res.keys(): a list of indexes from input samples (test_data)\n",
        "  \"\"\"\n",
        "  uncertainty_dict={} # as sample_index: uncertainty score\n",
        "  #calculating the mean of training samples in hidden neurons\n",
        "  trainingSet_hidden_values=[]\n",
        "  for i in range(len(training_data)):\n",
        "    # preds is a probability distribution of classes\n",
        "    _,x2,_ = net(training_data[i],return_all_layers=True)\n",
        "    trainingSet_hidden_values.append(x2[0].cpu().detach().numpy())\n",
        "  # calculate mean vector\n",
        "  trainingSet_hidden_avg = np.mean(np.array(trainingSet_hidden_values),axis=0)\n",
        "  # calculate distance/difference of test set from mean of training set\n",
        "  for i in range(len(test_data)):\n",
        "    # preds is a probability distribution of classes\n",
        "    _,x2,_ = net(test_data[i],return_all_layers=True)\n",
        "    # Uncertainty score is defined as the euclidean distance from training mean\n",
        "    uncertainty_dict[i]=euclidean_dis(x2[0].cpu().detach().numpy()-trainingSet_hidden_avg)\n",
        "  # calculate ranking\n",
        "  res = dict(sorted(uncertainty_dict.items(),\n",
        "                    key = lambda x: x[1], reverse = False)[:n])\n",
        "\n",
        "  return res.keys()"
      ]
    },
    {
      "cell_type": "code",
      "execution_count": null,
      "metadata": {
        "id": "14Y-Lr7G-8fT"
      },
      "outputs": [],
      "source": [
        "from numpy.linalg import norm as euclidean_dis\n",
        "def get_representative_samples(training_data,test_data,n):\n",
        "  \"\"\"\n",
        "  Returns the sample index from test_data based on the uncertainty scores\n",
        "  using the representative sampling\n",
        "\n",
        "  Keyword arguments:\n",
        "    net           : the trained neural network\n",
        "    training_data : the unlabeled samples as the input of the net\n",
        "    test_data     : the training samples as the input of the net\n",
        "    n             : number of the best candidates based on margin of confidence\n",
        "\n",
        "  Output:\n",
        "    res.keys(): a list of indexes from input samples (test_data)\n",
        "  \"\"\"\n",
        "  uncertainty_dict={} # as sample_index: uncertainty score\n",
        "  #calculating the mean of training/test samples\n",
        "  trainingSet_avg = np.mean(np.array(training_data),axis=0)\n",
        "  testSet_avg = np.mean(np.array(test_data),axis=0)\n",
        "  # calculate distance/difference of test set from mean of training/test set\n",
        "  for i in range(len(test_data)):\n",
        "    # Uncertainty score is defined as the ratio of distance from centroids\n",
        "    uncertainty_dict[i]=(euclidean_dis(test_data[i]-trainingSet_avg)\n",
        "    /euclidean_dis(test_data[i]-testSet_avg))\n",
        "  # calculate ranking\n",
        "  res = dict(sorted(uncertainty_dict.items(),\n",
        "                    key = lambda x: x[1], reverse = False)[:n])\n",
        "\n",
        "  return res.keys()"
      ]
    },
    {
      "cell_type": "markdown",
      "metadata": {
        "id": "GAaT0Amvjnyu"
      },
      "source": [
        "#Chapter 4 : Advanced active learning"
      ]
    },
    {
      "cell_type": "code",
      "execution_count": null,
      "metadata": {
        "colab": {
          "base_uri": "https://localhost:8080/"
        },
        "id": "F-4ICeMRkq3M",
        "outputId": "3cba6dba-c7ca-4c9e-ca60-b988af35e7c9"
      },
      "outputs": [
        {
          "name": "stderr",
          "output_type": "stream",
          "text": [
            "/usr/local/lib/python3.10/dist-packages/transformers/models/convnext/feature_extraction_convnext.py:28: FutureWarning: The class ConvNextFeatureExtractor is deprecated and will be removed in version 5 of Transformers. Please use ConvNextImageProcessor instead.\n",
            "  warnings.warn(\n"
          ]
        },
        {
          "name": "stdout",
          "output_type": "stream",
          "text": [
            "the model is loaded\n"
          ]
        }
      ],
      "source": [
        "from transformers import ResNetModel\n",
        "import torch\n",
        "\n",
        "# model definition\n",
        "class Classifier_model(torch.nn.Module):\n",
        "    # define model elements\n",
        "    def __init__(self):\n",
        "        super(Classifier_model, self).__init__()\n",
        "        self.device = 'cuda' if torch.cuda.is_available() else 'cpu'\n",
        "        self.image_processor = AutoFeatureExtractor.from_pretrained(\"microsoft/resnet-18\",\n",
        "                                                                    device=self.device)\n",
        "        self.pre_trained_model = ResNetModel.from_pretrained(\"microsoft/resnet-18\")\n",
        "        resnet18_output_size=25088\n",
        "        self.fc = torch.nn.Linear(resnet18_output_size, 2)\n",
        "        self.activation = torch.nn.ReLU()\n",
        "\n",
        "    # forward propagate input\n",
        "    def forward(self, X, return_all_layers=False):\n",
        "        X = self.image_processor(X, return_tensors=\"pt\").to(self.device)\n",
        "        X = self.pre_trained_model(**X).last_hidden_state.flatten(start_dim=1)\n",
        "        X1 = self.activation(X)\n",
        "        X2 = self.fc(X1)\n",
        "        if return_all_layers:\n",
        "          return X2.softmax(dim=1),X2,X1\n",
        "        else:\n",
        "          return X2.softmax(dim=1)\n",
        "\n",
        "device = 'cuda' if torch.cuda.is_available() else 'cpu'\n",
        "net_base = Classifier_model().to(device)\n",
        "if torch.cuda.is_available():\n",
        "  net.load_state_dict(torch.load(\"checkpoint.pth.tar\")['state_dict'])\n",
        "else:\n",
        "  net.load_state_dict(torch.load(\"checkpoint.pth.tar\",\n",
        "                                map_location=torch.device('cpu'))['state_dict'])\n",
        "net_base.eval()\n",
        "print(\"the model is loaded\")"
      ]
    },
    {
      "cell_type": "code",
      "execution_count": null,
      "metadata": {
        "colab": {
          "base_uri": "https://localhost:8080/"
        },
        "id": "QMPM9cCP_7ql",
        "outputId": "2aac4539-17ac-4dc1-d373-8ee6f89604fb"
      },
      "outputs": [
        {
          "name": "stdout",
          "output_type": "stream",
          "text": [
            "tensor_x.shape: torch.Size([520, 480, 640, 3]) , tensor_y.shape: torch.Size([520])\n"
          ]
        }
      ],
      "source": [
        "from torch.utils.data import TensorDataset, DataLoader\n",
        "zeros_list_val=mp4_to_frames(\"sample_data//0_val.mp4\")\n",
        "ones_list_val=mp4_to_frames(\"sample_data//1_val.mp4\")\n",
        "\n",
        "noise_thr=60\n",
        "noise=int(noise_thr/2)-np.random.randint(noise_thr, size=zeros_list_val[0].shape)\n",
        "\n",
        "label_correctness=[]\n",
        "for i in range(len(zeros_list_val)):\n",
        "  pred=np.argmax(net_base(torch.Tensor(np.clip(zeros_list_val[i]+noise,0,255)))[0].cpu().detach().numpy())\n",
        "  if pred==0:\n",
        "    label_correctness.append(1)\n",
        "  else:\n",
        "    label_correctness.append(0)\n",
        "\n",
        "for i in range(len(ones_list_val)):\n",
        "  pred=np.argmax(net_base(torch.Tensor(np.clip(ones_list_val[i]+noise,0,255)))[0].cpu().detach().numpy())\n",
        "  if pred==0:\n",
        "    label_correctness.append(0)\n",
        "  else:\n",
        "    label_correctness.append(1)\n",
        "\n",
        "tensor_x = torch.Tensor(np.append(ones_list_val,zeros_list_val,axis=0)).to(device)\n",
        "tensor_y = torch.Tensor(label_correctness).to(device)\n",
        "\n",
        "print(\"tensor_x.shape:\",tensor_x.shape,\", tensor_y.shape:\",tensor_y.shape)\n",
        "\n",
        "my_dataset = TensorDataset(tensor_x,tensor_y) # create your datset\n",
        "my_dataloader = DataLoader(my_dataset,batch_size=10, shuffle=True) # create your dataloader"
      ]
    },
    {
      "cell_type": "code",
      "execution_count": null,
      "metadata": {
        "id": "bjlemNbEl0Kw"
      },
      "outputs": [],
      "source": [
        "import time\n",
        "\n",
        "class Correctness_model(torch.nn.Module):\n",
        "    # define model elements\n",
        "    def __init__(self):\n",
        "        super(Correctness_model, self).__init__()\n",
        "        resnet18_output_size=25088\n",
        "        self.fc = torch.nn.Linear(resnet18_output_size, 2)\n",
        "\n",
        "    def forward(self, X):\n",
        "        X = self.fc(X)\n",
        "        return X.softmax(dim=1)\n",
        "\n",
        "def train(feature_extractor, correctness_model, train_dataloader, criterion,\n",
        "          optimizer, epochs=10, device='cpu', checkpoint_epochs=2):\n",
        "    start = time.time()\n",
        "    print(f'Training for {epochs} epochs on {device}')\n",
        "\n",
        "    for epoch in range(1,epochs+1):\n",
        "        print(f\"Epoch {epoch}/{epochs}\")\n",
        "\n",
        "        feature_extractor.eval()   # freeze network in eval mode\n",
        "        correctness_model.train()  # put network in train mode\n",
        "        train_loss = torch.tensor(0., device=device)\n",
        "        train_accuracy = torch.tensor(0., device=device)\n",
        "        for X, y in train_dataloader:\n",
        "            X = X.to(device)\n",
        "            y = y.type(torch.LongTensor).to(device)\n",
        "            _,_,X = feature_extractor(X,return_all_layers=True)\n",
        "            preds = correctness_model(X)\n",
        "            loss = criterion(preds, y)\n",
        "\n",
        "            optimizer.zero_grad()\n",
        "            loss.backward()\n",
        "            optimizer.step()\n",
        "\n",
        "            with torch.no_grad():\n",
        "                train_loss += loss * train_dataloader.batch_size\n",
        "                train_accuracy += (torch.argmax(preds, dim=1) == y).sum()\n",
        "\n",
        "        print(f'Training loss: {train_loss/len(train_dataloader.dataset):.2f}')\n",
        "        print(f'Training accuracy: {100*train_accuracy/len(train_dataloader.dataset):.2f}')\n",
        "\n",
        "\n",
        "        if epoch%checkpoint_epochs==0:\n",
        "            torch.save({\n",
        "                'epoch': epoch,\n",
        "                'state_dict': net.state_dict(),\n",
        "                'optimizer': optimizer.state_dict(),\n",
        "            }, './checkpoint_corr.pth.tar')\n",
        "\n",
        "        print()\n",
        "\n",
        "    end = time.time()\n",
        "    print(f'Total training time: {end-start:.1f} seconds')\n",
        "    return net"
      ]
    },
    {
      "cell_type": "code",
      "execution_count": null,
      "metadata": {
        "colab": {
          "base_uri": "https://localhost:8080/"
        },
        "id": "vKWDYsy2suFy",
        "outputId": "1501187e-e852-4789-8610-9e2a788a8a61"
      },
      "outputs": [
        {
          "name": "stdout",
          "output_type": "stream",
          "text": [
            "Training for 10 epochs on cuda\n",
            "Epoch 1/10\n",
            "Training loss: 0.57\n",
            "Training accuracy: 70.96\n",
            "\n",
            "Epoch 2/10\n",
            "Training loss: 0.50\n",
            "Training accuracy: 82.31\n",
            "\n",
            "Epoch 3/10\n",
            "Training loss: 0.48\n",
            "Training accuracy: 83.85\n",
            "\n",
            "Epoch 4/10\n",
            "Training loss: 0.47\n",
            "Training accuracy: 83.85\n",
            "\n",
            "Epoch 5/10\n",
            "Training loss: 0.47\n",
            "Training accuracy: 85.77\n",
            "\n",
            "Epoch 6/10\n",
            "Training loss: 0.46\n",
            "Training accuracy: 86.15\n",
            "\n",
            "Epoch 7/10\n",
            "Training loss: 0.45\n",
            "Training accuracy: 88.27\n",
            "\n",
            "Epoch 8/10\n",
            "Training loss: 0.44\n",
            "Training accuracy: 87.69\n",
            "\n",
            "Epoch 9/10\n",
            "Training loss: 0.44\n",
            "Training accuracy: 88.65\n",
            "\n",
            "Epoch 10/10\n",
            "Training loss: 0.43\n",
            "Training accuracy: 89.42\n",
            "\n",
            "Total training time: 173.5 seconds\n"
          ]
        }
      ],
      "source": [
        "lr, weight_decay, epochs = 1e-5, 5e-4, 10\n",
        "\n",
        "net = Correctness_model().to(device)\n",
        "\n",
        "# Standard CrossEntropy Loss for multi-class classification problems\n",
        "loss = torch.nn.CrossEntropyLoss()\n",
        "\n",
        "optimizer = torch.optim.Adam(net.fc.parameters(),lr=lr, weight_decay=weight_decay)\n",
        "\n",
        "net = train(net_base, net, my_dataloader, loss, optimizer, None, epochs, device)"
      ]
    },
    {
      "cell_type": "code",
      "execution_count": null,
      "metadata": {
        "colab": {
          "base_uri": "https://localhost:8080/"
        },
        "id": "KJKd6eWfR11D",
        "outputId": "a57c7579-2a5e-40be-d6c5-aecd4c56b8e4"
      },
      "outputs": [
        {
          "name": "stdout",
          "output_type": "stream",
          "text": [
            "the models are loaded\n",
            "The recorded video as the test has 323 frames.\n"
          ]
        },
        {
          "data": {
            "text/plain": [
              "{0: array(0.81494224, dtype=float32),\n",
              " 1: array(0.7057995, dtype=float32),\n",
              " 2: array(0.82313955, dtype=float32),\n",
              " 3: array(0.8216637, dtype=float32),\n",
              " 4: array(0.8637357, dtype=float32),\n",
              " 5: array(0.8153121, dtype=float32),\n",
              " 6: array(0.78844583, dtype=float32),\n",
              " 7: array(0.5861558, dtype=float32),\n",
              " 8: array(0.27440813, dtype=float32),\n",
              " 9: array(0.59359396, dtype=float32),\n",
              " 10: array(0.85530037, dtype=float32),\n",
              " 11: array(0.87008035, dtype=float32),\n",
              " 12: array(0.84084564, dtype=float32),\n",
              " 13: array(0.86111116, dtype=float32),\n",
              " 14: array(0.8837519, dtype=float32),\n",
              " 15: array(0.8130168, dtype=float32),\n",
              " 16: array(0.84304553, dtype=float32),\n",
              " 17: array(0.8273873, dtype=float32),\n",
              " 18: array(0.77017325, dtype=float32),\n",
              " 19: array(0.8355741, dtype=float32),\n",
              " 20: array(0.8860816, dtype=float32),\n",
              " 21: array(0.86351573, dtype=float32),\n",
              " 22: array(0.88081443, dtype=float32),\n",
              " 23: array(0.8819783, dtype=float32),\n",
              " 24: array(0.8387113, dtype=float32),\n",
              " 25: array(0.82749057, dtype=float32),\n",
              " 26: array(0.8269401, dtype=float32),\n",
              " 27: array(0.82242876, dtype=float32),\n",
              " 28: array(0.8637532, dtype=float32),\n",
              " 29: array(0.8991071, dtype=float32),\n",
              " 30: array(0.9028961, dtype=float32),\n",
              " 31: array(0.90536124, dtype=float32),\n",
              " 32: array(0.94550174, dtype=float32),\n",
              " 33: array(0.8498344, dtype=float32),\n",
              " 34: array(0.91142064, dtype=float32),\n",
              " 35: array(0.87146145, dtype=float32),\n",
              " 36: array(0.84345865, dtype=float32),\n",
              " 37: array(0.90389466, dtype=float32),\n",
              " 38: array(0.92363894, dtype=float32),\n",
              " 39: array(0.8832745, dtype=float32),\n",
              " 40: array(0.8268602, dtype=float32),\n",
              " 41: array(0.8518961, dtype=float32),\n",
              " 42: array(0.76888025, dtype=float32),\n",
              " 43: array(0.81967425, dtype=float32),\n",
              " 44: array(0.8452324, dtype=float32),\n",
              " 45: array(0.7894948, dtype=float32),\n",
              " 46: array(0.7706768, dtype=float32),\n",
              " 47: array(0.78933716, dtype=float32),\n",
              " 48: array(0.7851381, dtype=float32),\n",
              " 49: array(0.7702379, dtype=float32),\n",
              " 50: array(0.7960844, dtype=float32),\n",
              " 51: array(0.79776686, dtype=float32),\n",
              " 52: array(0.81798846, dtype=float32),\n",
              " 53: array(0.77248174, dtype=float32),\n",
              " 54: array(0.64679235, dtype=float32),\n",
              " 55: array(0.8516607, dtype=float32),\n",
              " 56: array(0.7951015, dtype=float32),\n",
              " 57: array(0.7643257, dtype=float32),\n",
              " 58: array(0.81595063, dtype=float32),\n",
              " 59: array(0.7854272, dtype=float32),\n",
              " 60: array(0.75631887, dtype=float32),\n",
              " 61: array(0.7333556, dtype=float32),\n",
              " 62: array(0.79151434, dtype=float32),\n",
              " 63: array(0.7448914, dtype=float32),\n",
              " 64: array(0.80149263, dtype=float32),\n",
              " 65: array(0.73553383, dtype=float32),\n",
              " 66: array(0.8048373, dtype=float32),\n",
              " 67: array(0.81366104, dtype=float32),\n",
              " 68: array(0.8457525, dtype=float32),\n",
              " 69: array(0.83487, dtype=float32),\n",
              " 70: array(0.92957157, dtype=float32),\n",
              " 71: array(0.87018645, dtype=float32),\n",
              " 72: array(0.8306177, dtype=float32),\n",
              " 73: array(0.8779971, dtype=float32),\n",
              " 74: array(0.86428326, dtype=float32),\n",
              " 75: array(0.8089976, dtype=float32),\n",
              " 76: array(0.702843, dtype=float32),\n",
              " 77: array(0.7072385, dtype=float32),\n",
              " 78: array(0.78474545, dtype=float32),\n",
              " 79: array(0.80940866, dtype=float32),\n",
              " 80: array(0.7363527, dtype=float32),\n",
              " 81: array(0.7868966, dtype=float32),\n",
              " 82: array(0.8623415, dtype=float32),\n",
              " 83: array(0.8366568, dtype=float32),\n",
              " 84: array(0.825885, dtype=float32),\n",
              " 85: array(0.8412739, dtype=float32),\n",
              " 86: array(0.86816853, dtype=float32),\n",
              " 87: array(0.7929121, dtype=float32),\n",
              " 88: array(0.80961174, dtype=float32),\n",
              " 89: array(0.8187346, dtype=float32),\n",
              " 90: array(0.81662256, dtype=float32),\n",
              " 91: array(0.87538874, dtype=float32),\n",
              " 92: array(0.8017352, dtype=float32),\n",
              " 93: array(0.72379464, dtype=float32),\n",
              " 94: array(0.87661743, dtype=float32),\n",
              " 95: array(0.81054986, dtype=float32),\n",
              " 96: array(0.8365601, dtype=float32),\n",
              " 97: array(0.8311727, dtype=float32),\n",
              " 98: array(0.851711, dtype=float32),\n",
              " 99: array(0.81183225, dtype=float32),\n",
              " 100: array(0.7878159, dtype=float32),\n",
              " 101: array(0.6713183, dtype=float32),\n",
              " 102: array(0.2745576, dtype=float32),\n",
              " 103: array(0.72625786, dtype=float32),\n",
              " 104: array(0.3378157, dtype=float32),\n",
              " 105: array(0.22780378, dtype=float32),\n",
              " 106: array(0.23233, dtype=float32),\n",
              " 107: array(0.18030572, dtype=float32),\n",
              " 108: array(0.32340285, dtype=float32),\n",
              " 109: array(0.3250663, dtype=float32),\n",
              " 110: array(0.37286907, dtype=float32),\n",
              " 111: array(0.16001688, dtype=float32),\n",
              " 112: array(0.08661667, dtype=float32),\n",
              " 113: array(0.13217394, dtype=float32),\n",
              " 114: array(0.07273567, dtype=float32),\n",
              " 115: array(0.07520045, dtype=float32),\n",
              " 116: array(0.01857795, dtype=float32),\n",
              " 117: array(0.02911587, dtype=float32),\n",
              " 118: array(0.18170287, dtype=float32),\n",
              " 119: array(0.25592715, dtype=float32),\n",
              " 120: array(0.17529269, dtype=float32),\n",
              " 121: array(0.40680096, dtype=float32),\n",
              " 122: array(0.60580134, dtype=float32),\n",
              " 123: array(0.35237253, dtype=float32),\n",
              " 124: array(0.48084897, dtype=float32),\n",
              " 125: array(0.48922908, dtype=float32),\n",
              " 126: array(0.24697362, dtype=float32),\n",
              " 127: array(0.5142864, dtype=float32),\n",
              " 128: array(0.27148974, dtype=float32),\n",
              " 129: array(0.11985691, dtype=float32),\n",
              " 130: array(0.07115068, dtype=float32),\n",
              " 131: array(0.06477216, dtype=float32),\n",
              " 132: array(0.18836951, dtype=float32),\n",
              " 133: array(0.1558117, dtype=float32),\n",
              " 134: array(0.12186176, dtype=float32),\n",
              " 135: array(0.08918056, dtype=float32),\n",
              " 136: array(0.04695406, dtype=float32),\n",
              " 137: array(0.06850222, dtype=float32),\n",
              " 138: array(0.12030049, dtype=float32),\n",
              " 139: array(0.1749289, dtype=float32),\n",
              " 140: array(0.12249371, dtype=float32),\n",
              " 141: array(0.14452502, dtype=float32),\n",
              " 142: array(0.08148688, dtype=float32),\n",
              " 143: array(0.10605422, dtype=float32),\n",
              " 144: array(0.07395021, dtype=float32),\n",
              " 145: array(0.0796816, dtype=float32),\n",
              " 146: array(0.16771558, dtype=float32),\n",
              " 147: array(0.11706414, dtype=float32),\n",
              " 148: array(0.10255275, dtype=float32),\n",
              " 149: array(0.04926109, dtype=float32),\n",
              " 150: array(0.08062325, dtype=float32),\n",
              " 151: array(0.08115722, dtype=float32),\n",
              " 152: array(0.09082967, dtype=float32),\n",
              " 153: array(0.07049205, dtype=float32),\n",
              " 154: array(0.07636472, dtype=float32),\n",
              " 155: array(0.10279739, dtype=float32),\n",
              " 156: array(0.15245263, dtype=float32),\n",
              " 157: array(0.2348413, dtype=float32),\n",
              " 158: array(0.19278274, dtype=float32),\n",
              " 159: array(0.113919, dtype=float32),\n",
              " 160: array(0.09875719, dtype=float32),\n",
              " 161: array(0.07337584, dtype=float32),\n",
              " 162: array(0.07223635, dtype=float32),\n",
              " 163: array(0.09845685, dtype=float32),\n",
              " 164: array(0.13572714, dtype=float32),\n",
              " 165: array(0.1793551, dtype=float32),\n",
              " 166: array(0.1767123, dtype=float32),\n",
              " 167: array(0.14687195, dtype=float32),\n",
              " 168: array(0.12650634, dtype=float32),\n",
              " 169: array(0.14682406, dtype=float32),\n",
              " 170: array(0.1780244, dtype=float32),\n",
              " 171: array(0.12699087, dtype=float32),\n",
              " 172: array(0.19852369, dtype=float32),\n",
              " 173: array(0.22018795, dtype=float32),\n",
              " 174: array(0.20788522, dtype=float32),\n",
              " 175: array(0.2571899, dtype=float32),\n",
              " 176: array(0.21930179, dtype=float32),\n",
              " 177: array(0.32472244, dtype=float32),\n",
              " 178: array(0.20491484, dtype=float32),\n",
              " 179: array(0.15887144, dtype=float32),\n",
              " 180: array(0.26330897, dtype=float32),\n",
              " 181: array(0.14653069, dtype=float32),\n",
              " 182: array(0.21418011, dtype=float32),\n",
              " 183: array(0.12417971, dtype=float32),\n",
              " 184: array(0.17485043, dtype=float32),\n",
              " 185: array(0.11251216, dtype=float32),\n",
              " 186: array(0.13791074, dtype=float32),\n",
              " 187: array(0.10528333, dtype=float32),\n",
              " 188: array(0.12405936, dtype=float32),\n",
              " 189: array(0.17099778, dtype=float32),\n",
              " 190: array(0.08724593, dtype=float32),\n",
              " 191: array(0.14840725, dtype=float32),\n",
              " 192: array(0.09734591, dtype=float32),\n",
              " 193: array(0.09830957, dtype=float32),\n",
              " 194: array(0.10445032, dtype=float32),\n",
              " 195: array(0.23535177, dtype=float32),\n",
              " 196: array(0.18514463, dtype=float32),\n",
              " 197: array(0.18454614, dtype=float32),\n",
              " 198: array(0.18687667, dtype=float32),\n",
              " 199: array(0.21492916, dtype=float32),\n",
              " 200: array(0.1032545, dtype=float32),\n",
              " 201: array(0.17735448, dtype=float32),\n",
              " 202: array(0.2328449, dtype=float32),\n",
              " 203: array(0.3309249, dtype=float32),\n",
              " 204: array(0.29106557, dtype=float32),\n",
              " 205: array(0.3099662, dtype=float32),\n",
              " 206: array(0.27848715, dtype=float32),\n",
              " 207: array(0.20799428, dtype=float32),\n",
              " 208: array(0.19453953, dtype=float32),\n",
              " 209: array(0.2829474, dtype=float32),\n",
              " 210: array(0.21142088, dtype=float32),\n",
              " 211: array(0.17988779, dtype=float32),\n",
              " 212: array(0.14128102, dtype=float32),\n",
              " 213: array(0.12026247, dtype=float32),\n",
              " 214: array(0.10914105, dtype=float32),\n",
              " 215: array(0.10654639, dtype=float32),\n",
              " 216: array(0.07751473, dtype=float32),\n",
              " 217: array(0.10580549, dtype=float32),\n",
              " 218: array(0.07499042, dtype=float32),\n",
              " 219: array(0.11821033, dtype=float32),\n",
              " 220: array(0.07783119, dtype=float32),\n",
              " 221: array(0.10838515, dtype=float32),\n",
              " 222: array(0.11082279, dtype=float32),\n",
              " 223: array(0.09852445, dtype=float32),\n",
              " 224: array(0.11230145, dtype=float32),\n",
              " 225: array(0.16107754, dtype=float32),\n",
              " 226: array(0.18020615, dtype=float32),\n",
              " 227: array(0.19395885, dtype=float32),\n",
              " 228: array(0.13261364, dtype=float32),\n",
              " 229: array(0.1831527, dtype=float32),\n",
              " 230: array(0.15542254, dtype=float32),\n",
              " 231: array(0.2071775, dtype=float32),\n",
              " 232: array(0.21948482, dtype=float32),\n",
              " 233: array(0.21791738, dtype=float32),\n",
              " 234: array(0.18556781, dtype=float32),\n",
              " 235: array(0.1426618, dtype=float32),\n",
              " 236: array(0.10913755, dtype=float32),\n",
              " 237: array(0.06336713, dtype=float32),\n",
              " 238: array(0.08034728, dtype=float32),\n",
              " 239: array(0.13186638, dtype=float32),\n",
              " 240: array(0.08223021, dtype=float32),\n",
              " 241: array(0.10891457, dtype=float32),\n",
              " 242: array(0.15488249, dtype=float32),\n",
              " 243: array(0.14151233, dtype=float32),\n",
              " 244: array(0.17297824, dtype=float32),\n",
              " 245: array(0.1212706, dtype=float32),\n",
              " 246: array(0.13524726, dtype=float32),\n",
              " 247: array(0.13328789, dtype=float32),\n",
              " 248: array(0.13158447, dtype=float32),\n",
              " 249: array(0.12694535, dtype=float32),\n",
              " 250: array(0.15645236, dtype=float32),\n",
              " 251: array(0.10303367, dtype=float32),\n",
              " 252: array(0.10510069, dtype=float32),\n",
              " 253: array(0.11290802, dtype=float32),\n",
              " 254: array(0.07491596, dtype=float32),\n",
              " 255: array(0.15138444, dtype=float32),\n",
              " 256: array(0.17807253, dtype=float32),\n",
              " 257: array(0.10690896, dtype=float32),\n",
              " 258: array(0.0843339, dtype=float32),\n",
              " 259: array(0.09937634, dtype=float32),\n",
              " 260: array(0.11500274, dtype=float32),\n",
              " 261: array(0.12462271, dtype=float32),\n",
              " 262: array(0.11210608, dtype=float32),\n",
              " 263: array(0.13069667, dtype=float32),\n",
              " 264: array(0.18844861, dtype=float32),\n",
              " 265: array(0.19128847, dtype=float32),\n",
              " 266: array(0.24673474, dtype=float32),\n",
              " 267: array(0.2558065, dtype=float32),\n",
              " 268: array(0.15707302, dtype=float32),\n",
              " 269: array(0.13451587, dtype=float32),\n",
              " 270: array(0.09719968, dtype=float32),\n",
              " 271: array(0.09819127, dtype=float32),\n",
              " 272: array(0.07302583, dtype=float32),\n",
              " 273: array(0.14977722, dtype=float32),\n",
              " 274: array(0.07502897, dtype=float32),\n",
              " 275: array(0.07288401, dtype=float32),\n",
              " 276: array(0.06711899, dtype=float32),\n",
              " 277: array(0.06501647, dtype=float32),\n",
              " 278: array(0.08138558, dtype=float32),\n",
              " 279: array(0.07190633, dtype=float32),\n",
              " 280: array(0.06222107, dtype=float32),\n",
              " 281: array(0.07062431, dtype=float32),\n",
              " 282: array(0.0524896, dtype=float32),\n",
              " 283: array(0.06693573, dtype=float32),\n",
              " 284: array(0.09883253, dtype=float32),\n",
              " 285: array(0.10260828, dtype=float32),\n",
              " 286: array(0.09875488, dtype=float32),\n",
              " 287: array(0.12415118, dtype=float32),\n",
              " 288: array(0.05951579, dtype=float32),\n",
              " 289: array(0.07188616, dtype=float32),\n",
              " 290: array(0.06650144, dtype=float32),\n",
              " 291: array(0.12088055, dtype=float32),\n",
              " 292: array(0.10243823, dtype=float32),\n",
              " 293: array(0.14807522, dtype=float32),\n",
              " 294: array(0.15350695, dtype=float32),\n",
              " 295: array(0.26262254, dtype=float32),\n",
              " 296: array(0.1434725, dtype=float32),\n",
              " 297: array(0.12975618, dtype=float32),\n",
              " 298: array(0.12943725, dtype=float32),\n",
              " 299: array(0.11059322, dtype=float32),\n",
              " 300: array(0.09677338, dtype=float32),\n",
              " 301: array(0.09841291, dtype=float32),\n",
              " 302: array(0.18437208, dtype=float32),\n",
              " 303: array(0.1469783, dtype=float32),\n",
              " 304: array(0.04166356, dtype=float32),\n",
              " 305: array(0.03559925, dtype=float32),\n",
              " 306: array(0.05763763, dtype=float32),\n",
              " 307: array(0.03914385, dtype=float32),\n",
              " 308: array(0.05228718, dtype=float32),\n",
              " 309: array(0.06573875, dtype=float32),\n",
              " 310: array(0.12251351, dtype=float32),\n",
              " 311: array(0.12420325, dtype=float32),\n",
              " 312: array(0.09152945, dtype=float32),\n",
              " 313: array(0.09678033, dtype=float32),\n",
              " 314: array(0.14106101, dtype=float32),\n",
              " 315: array(0.17371303, dtype=float32),\n",
              " 316: array(0.16735786, dtype=float32),\n",
              " 317: array(0.13248701, dtype=float32),\n",
              " 318: array(0.06420868, dtype=float32),\n",
              " 319: array(0.04506932, dtype=float32),\n",
              " 320: array(0.09908726, dtype=float32),\n",
              " 321: array(0.07585005, dtype=float32),\n",
              " 322: array(0.10119921, dtype=float32)}"
            ]
          },
          "execution_count": 54,
          "metadata": {},
          "output_type": "execute_result"
        }
      ],
      "source": [
        "feature_extractor = Classifier_model().to(device)\n",
        "if torch.cuda.is_available():\n",
        "  feature_extractor.load_state_dict(torch.load(\"checkpoint.pth.tar\")['state_dict'])\n",
        "else:\n",
        "  feature_extractor.load_state_dict(torch.load(\"checkpoint.pth.tar\",\n",
        "                                map_location=torch.device('cpu'))['state_dict'])\n",
        "feature_extractor.eval()\n",
        "\n",
        "correctness_model = Correctness_model().to(device)\n",
        "if torch.cuda.is_available():\n",
        "  correctness_model.load_state_dict(torch.load(\"checkpoint_corr.pth.tar\")['state_dict'])\n",
        "else:\n",
        "  correctness_model.load_state_dict(torch.load(\"checkpoint_corr.pth.tar\",\n",
        "                                map_location=torch.device('cpu'))['state_dict'])\n",
        "correctness_model.eval()\n",
        "print(\"the models are loaded\")\n",
        "\n",
        "test_list=mp4_to_frames(\"sample_data//Test.mp4\")\n",
        "print(\"The recorded video as the test has\",len(test_list),\"frames.\")\n",
        "test_data=torch.Tensor(test_list).to(device)\n",
        "\n",
        "sample_score_dict={}\n",
        "for i in range(len(test_data)):\n",
        "  _,_,X = feature_extractor(test_data[i],return_all_layers=True)\n",
        "  preds = correctness_model(X)[0]\n",
        "  sample_score_dict[i]=preds[0].cpu().detach().numpy()\n"
      ]
    },
    {
      "cell_type": "code",
      "execution_count": null,
      "metadata": {
        "id": "cDX3HQxqSoRP"
      },
      "outputs": [],
      "source": []
    }
  ],
  "metadata": {
    "accelerator": "GPU",
    "colab": {
      "gpuType": "T4",
      "provenance": []
    },
    "kernelspec": {
      "display_name": "Python 3",
      "name": "python3"
    },
    "language_info": {
      "codemirror_mode": {
        "name": "ipython",
        "version": 3
      },
      "file_extension": ".py",
      "mimetype": "text/x-python",
      "name": "python",
      "nbconvert_exporter": "python",
      "pygments_lexer": "ipython3",
      "version": "3.11.9"
    }
  },
  "nbformat": 4,
  "nbformat_minor": 0
}